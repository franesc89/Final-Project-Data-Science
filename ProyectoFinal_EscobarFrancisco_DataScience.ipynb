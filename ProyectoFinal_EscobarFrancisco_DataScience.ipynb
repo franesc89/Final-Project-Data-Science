{
 "cells": [
  {
   "cell_type": "markdown",
   "id": "2a77b756-671d-4000-ac42-000ded88ccfb",
   "metadata": {
    "tags": []
   },
   "source": [
    "**Algoritmo de prevención de fraude:**\n",
    "---\n",
    "\n",
    "¡¡Hola!! En este proyecto veremos como generar un algoritmo para detectar posibles riesgos de fraude en transacciones bancarias de clientes. Para ello avanzaremos paso por paso desde el inicio. Veremos como extraer la información, como transformarla, como aplicar correlación para poder ver como se relacionan entre si las distintas variables y con todo esto poder realizar gráficos que ayuden a visualizar dichas relaciones. Luego analízaremos cual es el mejor método estadístico para realizar machine learning y lo entrenaremos con los datos ya procesados.\n",
    "\n",
    "El dataset utlizado en este caso es obtenido del siguiente link:\n",
    "https://www.kaggle.com/datasets/ealaxi/paysim1\n",
    "\n",
    "Además de generar un algoritmo preciso que permita predecir fraude analizaremos los datos para contestar las siguientes preguntas:\n",
    "\n",
    "1) ¿Qué porcentaje de casos fraudulentos se encuentran entre los datos?\n",
    "2) ¿Cuales son los tipos de transacciones mas probables de que sean fraude?\n",
    "3) ¿Cuáles son las propiedades que mayor correlatividad tienen con nuestra variable objetivo?"
   ]
  },
  {
   "cell_type": "markdown",
   "id": "ae363df0-e806-4127-917e-2c747cdf0d0f",
   "metadata": {},
   "source": [
    "**IMPORTACIÓN Y ESTUDIO DE LOS DATOS**\n",
    "--"
   ]
  },
  {
   "cell_type": "code",
   "execution_count": 1,
   "id": "9a20df8a-c365-4807-9094-53c86ed5fbf4",
   "metadata": {
    "tags": []
   },
   "outputs": [],
   "source": [
    "# Cargamos las librerías necesarias\n",
    "\n",
    "import pandas as pd\n",
    "import numpy as np\n",
    "import matplotlib.pyplot as plt\n",
    "import seaborn as sns\n",
    "\n",
    "from sklearn import preprocessing\n",
    "from sklearn import tree\n",
    "from sklearn import metrics\n",
    "from sklearn import svm\n",
    "\n",
    "from sklearn.preprocessing import StandardScaler\n",
    "\n",
    "from sklearn.ensemble import RandomForestClassifier\n",
    "from sklearn.linear_model import LogisticRegression\n",
    "from sklearn.model_selection import train_test_split, cross_val_score as crossval\n",
    "from sklearn.model_selection import GridSearchCV\n",
    "from sklearn.metrics import classification_report, confusion_matrix, RocCurveDisplay\n",
    "\n",
    "from imblearn.under_sampling import RandomUnderSampler\n",
    "from imblearn.over_sampling import RandomOverSampler\n",
    "\n",
    "np.random.seed(0)"
   ]
  },
  {
   "cell_type": "code",
   "execution_count": 2,
   "id": "cba6e800-ea04-4ccf-9a53-a50a54933429",
   "metadata": {
    "tags": []
   },
   "outputs": [],
   "source": [
    "# importamos el dataset\n",
    "\n",
    "df = pd.read_csv(r\"C:\\Users\\Francisco\\Documents\\DataScience\\Proyecto_final_data_science\\Dataset\\PS_20174392719_1491204439457_log.csv\")\n"
   ]
  },
  {
   "cell_type": "code",
   "execution_count": 3,
   "id": "693f4737-2a22-456b-868b-a43a7372f7b2",
   "metadata": {
    "tags": []
   },
   "outputs": [
    {
     "name": "stdout",
     "output_type": "stream",
     "text": [
      "INFORMACIÓN DEL DATASET:\n",
      "------------------------\n",
      "<class 'pandas.core.frame.DataFrame'>\n",
      "RangeIndex: 6362620 entries, 0 to 6362619\n",
      "Data columns (total 11 columns):\n",
      " #   Column          Dtype  \n",
      "---  ------          -----  \n",
      " 0   step            int64  \n",
      " 1   type            object \n",
      " 2   amount          float64\n",
      " 3   nameOrig        object \n",
      " 4   oldbalanceOrg   float64\n",
      " 5   newbalanceOrig  float64\n",
      " 6   nameDest        object \n",
      " 7   oldbalanceDest  float64\n",
      " 8   newbalanceDest  float64\n",
      " 9   isFraud         int64  \n",
      " 10  isFlaggedFraud  int64  \n",
      "dtypes: float64(5), int64(3), object(3)\n",
      "memory usage: 534.0+ MB\n",
      "None\n",
      "\n",
      "**************************\n",
      "TAMAÑO DEL DATASET:\n",
      "(6362620, 11)\n"
     ]
    }
   ],
   "source": [
    "# chequeamos la información que contiene\n",
    "\n",
    "print('INFORMACIÓN DEL DATASET:')\n",
    "print('------------------------')\n",
    "print(df.info())\n",
    "print('')\n",
    "print('**************************')\n",
    "print('TAMAÑO DEL DATASET:')\n",
    "print(df.shape)"
   ]
  },
  {
   "cell_type": "code",
   "execution_count": 4,
   "id": "310f4277-a19a-42e8-a038-f33c035362c5",
   "metadata": {
    "tags": []
   },
   "outputs": [
    {
     "data": {
      "text/plain": [
       "step              0\n",
       "type              0\n",
       "amount            0\n",
       "nameOrig          0\n",
       "oldbalanceOrg     0\n",
       "newbalanceOrig    0\n",
       "nameDest          0\n",
       "oldbalanceDest    0\n",
       "newbalanceDest    0\n",
       "isFraud           0\n",
       "isFlaggedFraud    0\n",
       "dtype: int64"
      ]
     },
     "execution_count": 4,
     "metadata": {},
     "output_type": "execute_result"
    }
   ],
   "source": [
    "# Chequeamos si hay valores nulos\n",
    "\n",
    "df.isnull().sum()"
   ]
  },
  {
   "cell_type": "code",
   "execution_count": 5,
   "id": "0ac9eb0b-01e9-45b5-a456-e2a90e836499",
   "metadata": {
    "tags": []
   },
   "outputs": [
    {
     "data": {
      "text/html": [
       "<div>\n",
       "<style scoped>\n",
       "    .dataframe tbody tr th:only-of-type {\n",
       "        vertical-align: middle;\n",
       "    }\n",
       "\n",
       "    .dataframe tbody tr th {\n",
       "        vertical-align: top;\n",
       "    }\n",
       "\n",
       "    .dataframe thead th {\n",
       "        text-align: right;\n",
       "    }\n",
       "</style>\n",
       "<table border=\"1\" class=\"dataframe\">\n",
       "  <thead>\n",
       "    <tr style=\"text-align: right;\">\n",
       "      <th></th>\n",
       "      <th>step</th>\n",
       "      <th>type</th>\n",
       "      <th>amount</th>\n",
       "      <th>nameOrig</th>\n",
       "      <th>oldbalanceOrg</th>\n",
       "      <th>newbalanceOrig</th>\n",
       "      <th>nameDest</th>\n",
       "      <th>oldbalanceDest</th>\n",
       "      <th>newbalanceDest</th>\n",
       "      <th>isFraud</th>\n",
       "      <th>isFlaggedFraud</th>\n",
       "    </tr>\n",
       "  </thead>\n",
       "  <tbody>\n",
       "    <tr>\n",
       "      <th>0</th>\n",
       "      <td>1</td>\n",
       "      <td>PAYMENT</td>\n",
       "      <td>9839.64</td>\n",
       "      <td>C1231006815</td>\n",
       "      <td>170136.0</td>\n",
       "      <td>160296.36</td>\n",
       "      <td>M1979787155</td>\n",
       "      <td>0.0</td>\n",
       "      <td>0.0</td>\n",
       "      <td>0</td>\n",
       "      <td>0</td>\n",
       "    </tr>\n",
       "    <tr>\n",
       "      <th>1</th>\n",
       "      <td>1</td>\n",
       "      <td>PAYMENT</td>\n",
       "      <td>1864.28</td>\n",
       "      <td>C1666544295</td>\n",
       "      <td>21249.0</td>\n",
       "      <td>19384.72</td>\n",
       "      <td>M2044282225</td>\n",
       "      <td>0.0</td>\n",
       "      <td>0.0</td>\n",
       "      <td>0</td>\n",
       "      <td>0</td>\n",
       "    </tr>\n",
       "    <tr>\n",
       "      <th>2</th>\n",
       "      <td>1</td>\n",
       "      <td>TRANSFER</td>\n",
       "      <td>181.00</td>\n",
       "      <td>C1305486145</td>\n",
       "      <td>181.0</td>\n",
       "      <td>0.00</td>\n",
       "      <td>C553264065</td>\n",
       "      <td>0.0</td>\n",
       "      <td>0.0</td>\n",
       "      <td>1</td>\n",
       "      <td>0</td>\n",
       "    </tr>\n",
       "    <tr>\n",
       "      <th>3</th>\n",
       "      <td>1</td>\n",
       "      <td>CASH_OUT</td>\n",
       "      <td>181.00</td>\n",
       "      <td>C840083671</td>\n",
       "      <td>181.0</td>\n",
       "      <td>0.00</td>\n",
       "      <td>C38997010</td>\n",
       "      <td>21182.0</td>\n",
       "      <td>0.0</td>\n",
       "      <td>1</td>\n",
       "      <td>0</td>\n",
       "    </tr>\n",
       "    <tr>\n",
       "      <th>4</th>\n",
       "      <td>1</td>\n",
       "      <td>PAYMENT</td>\n",
       "      <td>11668.14</td>\n",
       "      <td>C2048537720</td>\n",
       "      <td>41554.0</td>\n",
       "      <td>29885.86</td>\n",
       "      <td>M1230701703</td>\n",
       "      <td>0.0</td>\n",
       "      <td>0.0</td>\n",
       "      <td>0</td>\n",
       "      <td>0</td>\n",
       "    </tr>\n",
       "  </tbody>\n",
       "</table>\n",
       "</div>"
      ],
      "text/plain": [
       "   step      type    amount     nameOrig  oldbalanceOrg  newbalanceOrig  \\\n",
       "0     1   PAYMENT   9839.64  C1231006815       170136.0       160296.36   \n",
       "1     1   PAYMENT   1864.28  C1666544295        21249.0        19384.72   \n",
       "2     1  TRANSFER    181.00  C1305486145          181.0            0.00   \n",
       "3     1  CASH_OUT    181.00   C840083671          181.0            0.00   \n",
       "4     1   PAYMENT  11668.14  C2048537720        41554.0        29885.86   \n",
       "\n",
       "      nameDest  oldbalanceDest  newbalanceDest  isFraud  isFlaggedFraud  \n",
       "0  M1979787155             0.0             0.0        0               0  \n",
       "1  M2044282225             0.0             0.0        0               0  \n",
       "2   C553264065             0.0             0.0        1               0  \n",
       "3    C38997010         21182.0             0.0        1               0  \n",
       "4  M1230701703             0.0             0.0        0               0  "
      ]
     },
     "execution_count": 5,
     "metadata": {},
     "output_type": "execute_result"
    }
   ],
   "source": [
    "# Hechamos un vistazo a los valores\n",
    "\n",
    "df.head()"
   ]
  },
  {
   "cell_type": "code",
   "execution_count": 6,
   "id": "bbb65066-d901-49cc-8ac2-2275944ee04a",
   "metadata": {
    "tags": []
   },
   "outputs": [
    {
     "data": {
      "text/html": [
       "<div>\n",
       "<style scoped>\n",
       "    .dataframe tbody tr th:only-of-type {\n",
       "        vertical-align: middle;\n",
       "    }\n",
       "\n",
       "    .dataframe tbody tr th {\n",
       "        vertical-align: top;\n",
       "    }\n",
       "\n",
       "    .dataframe thead th {\n",
       "        text-align: right;\n",
       "    }\n",
       "</style>\n",
       "<table border=\"1\" class=\"dataframe\">\n",
       "  <thead>\n",
       "    <tr style=\"text-align: right;\">\n",
       "      <th></th>\n",
       "      <th>step</th>\n",
       "      <th>amount</th>\n",
       "      <th>oldbalanceOrg</th>\n",
       "      <th>newbalanceOrig</th>\n",
       "      <th>oldbalanceDest</th>\n",
       "      <th>newbalanceDest</th>\n",
       "      <th>isFraud</th>\n",
       "      <th>isFlaggedFraud</th>\n",
       "    </tr>\n",
       "  </thead>\n",
       "  <tbody>\n",
       "    <tr>\n",
       "      <th>count</th>\n",
       "      <td>6.362620e+06</td>\n",
       "      <td>6.362620e+06</td>\n",
       "      <td>6.362620e+06</td>\n",
       "      <td>6.362620e+06</td>\n",
       "      <td>6.362620e+06</td>\n",
       "      <td>6.362620e+06</td>\n",
       "      <td>6.362620e+06</td>\n",
       "      <td>6.362620e+06</td>\n",
       "    </tr>\n",
       "    <tr>\n",
       "      <th>mean</th>\n",
       "      <td>2.433972e+02</td>\n",
       "      <td>1.798619e+05</td>\n",
       "      <td>8.338831e+05</td>\n",
       "      <td>8.551137e+05</td>\n",
       "      <td>1.100702e+06</td>\n",
       "      <td>1.224996e+06</td>\n",
       "      <td>1.290820e-03</td>\n",
       "      <td>2.514687e-06</td>\n",
       "    </tr>\n",
       "    <tr>\n",
       "      <th>std</th>\n",
       "      <td>1.423320e+02</td>\n",
       "      <td>6.038582e+05</td>\n",
       "      <td>2.888243e+06</td>\n",
       "      <td>2.924049e+06</td>\n",
       "      <td>3.399180e+06</td>\n",
       "      <td>3.674129e+06</td>\n",
       "      <td>3.590480e-02</td>\n",
       "      <td>1.585775e-03</td>\n",
       "    </tr>\n",
       "    <tr>\n",
       "      <th>min</th>\n",
       "      <td>1.000000e+00</td>\n",
       "      <td>0.000000e+00</td>\n",
       "      <td>0.000000e+00</td>\n",
       "      <td>0.000000e+00</td>\n",
       "      <td>0.000000e+00</td>\n",
       "      <td>0.000000e+00</td>\n",
       "      <td>0.000000e+00</td>\n",
       "      <td>0.000000e+00</td>\n",
       "    </tr>\n",
       "    <tr>\n",
       "      <th>25%</th>\n",
       "      <td>1.560000e+02</td>\n",
       "      <td>1.338957e+04</td>\n",
       "      <td>0.000000e+00</td>\n",
       "      <td>0.000000e+00</td>\n",
       "      <td>0.000000e+00</td>\n",
       "      <td>0.000000e+00</td>\n",
       "      <td>0.000000e+00</td>\n",
       "      <td>0.000000e+00</td>\n",
       "    </tr>\n",
       "    <tr>\n",
       "      <th>50%</th>\n",
       "      <td>2.390000e+02</td>\n",
       "      <td>7.487194e+04</td>\n",
       "      <td>1.420800e+04</td>\n",
       "      <td>0.000000e+00</td>\n",
       "      <td>1.327057e+05</td>\n",
       "      <td>2.146614e+05</td>\n",
       "      <td>0.000000e+00</td>\n",
       "      <td>0.000000e+00</td>\n",
       "    </tr>\n",
       "    <tr>\n",
       "      <th>75%</th>\n",
       "      <td>3.350000e+02</td>\n",
       "      <td>2.087215e+05</td>\n",
       "      <td>1.073152e+05</td>\n",
       "      <td>1.442584e+05</td>\n",
       "      <td>9.430367e+05</td>\n",
       "      <td>1.111909e+06</td>\n",
       "      <td>0.000000e+00</td>\n",
       "      <td>0.000000e+00</td>\n",
       "    </tr>\n",
       "    <tr>\n",
       "      <th>max</th>\n",
       "      <td>7.430000e+02</td>\n",
       "      <td>9.244552e+07</td>\n",
       "      <td>5.958504e+07</td>\n",
       "      <td>4.958504e+07</td>\n",
       "      <td>3.560159e+08</td>\n",
       "      <td>3.561793e+08</td>\n",
       "      <td>1.000000e+00</td>\n",
       "      <td>1.000000e+00</td>\n",
       "    </tr>\n",
       "  </tbody>\n",
       "</table>\n",
       "</div>"
      ],
      "text/plain": [
       "               step        amount  oldbalanceOrg  newbalanceOrig  \\\n",
       "count  6.362620e+06  6.362620e+06   6.362620e+06    6.362620e+06   \n",
       "mean   2.433972e+02  1.798619e+05   8.338831e+05    8.551137e+05   \n",
       "std    1.423320e+02  6.038582e+05   2.888243e+06    2.924049e+06   \n",
       "min    1.000000e+00  0.000000e+00   0.000000e+00    0.000000e+00   \n",
       "25%    1.560000e+02  1.338957e+04   0.000000e+00    0.000000e+00   \n",
       "50%    2.390000e+02  7.487194e+04   1.420800e+04    0.000000e+00   \n",
       "75%    3.350000e+02  2.087215e+05   1.073152e+05    1.442584e+05   \n",
       "max    7.430000e+02  9.244552e+07   5.958504e+07    4.958504e+07   \n",
       "\n",
       "       oldbalanceDest  newbalanceDest       isFraud  isFlaggedFraud  \n",
       "count    6.362620e+06    6.362620e+06  6.362620e+06    6.362620e+06  \n",
       "mean     1.100702e+06    1.224996e+06  1.290820e-03    2.514687e-06  \n",
       "std      3.399180e+06    3.674129e+06  3.590480e-02    1.585775e-03  \n",
       "min      0.000000e+00    0.000000e+00  0.000000e+00    0.000000e+00  \n",
       "25%      0.000000e+00    0.000000e+00  0.000000e+00    0.000000e+00  \n",
       "50%      1.327057e+05    2.146614e+05  0.000000e+00    0.000000e+00  \n",
       "75%      9.430367e+05    1.111909e+06  0.000000e+00    0.000000e+00  \n",
       "max      3.560159e+08    3.561793e+08  1.000000e+00    1.000000e+00  "
      ]
     },
     "execution_count": 6,
     "metadata": {},
     "output_type": "execute_result"
    }
   ],
   "source": [
    "# Por último chequeamos la información estadística de los datos\n",
    "\n",
    "df.describe()"
   ]
  },
  {
   "cell_type": "markdown",
   "id": "9d3fee20-fe3e-4db1-9f50-a8776dc0e823",
   "metadata": {},
   "source": [
    "Se puede observar una diferencia muy grande en los valores por lo que es necesario emplear un proceso de normalización de los datos el cual lo haremos mas adelante. Pero primero corregiremos el nombre de oldbalanceOrg, cambiándolo a oldbalanceOrig así se utiliza la misma nomenclatura para todos los casos"
   ]
  },
  {
   "cell_type": "code",
   "execution_count": 7,
   "id": "665a1979-1033-4466-acff-01d434cd232a",
   "metadata": {
    "tags": []
   },
   "outputs": [
    {
     "data": {
      "text/html": [
       "<div>\n",
       "<style scoped>\n",
       "    .dataframe tbody tr th:only-of-type {\n",
       "        vertical-align: middle;\n",
       "    }\n",
       "\n",
       "    .dataframe tbody tr th {\n",
       "        vertical-align: top;\n",
       "    }\n",
       "\n",
       "    .dataframe thead th {\n",
       "        text-align: right;\n",
       "    }\n",
       "</style>\n",
       "<table border=\"1\" class=\"dataframe\">\n",
       "  <thead>\n",
       "    <tr style=\"text-align: right;\">\n",
       "      <th></th>\n",
       "      <th>step</th>\n",
       "      <th>type</th>\n",
       "      <th>amount</th>\n",
       "      <th>nameOrig</th>\n",
       "      <th>oldbalanceOrig</th>\n",
       "      <th>newbalanceOrig</th>\n",
       "      <th>nameDest</th>\n",
       "      <th>oldbalanceDest</th>\n",
       "      <th>newbalanceDest</th>\n",
       "      <th>isFraud</th>\n",
       "      <th>isFlaggedFraud</th>\n",
       "    </tr>\n",
       "  </thead>\n",
       "  <tbody>\n",
       "    <tr>\n",
       "      <th>0</th>\n",
       "      <td>1</td>\n",
       "      <td>PAYMENT</td>\n",
       "      <td>9839.64</td>\n",
       "      <td>C1231006815</td>\n",
       "      <td>170136.0</td>\n",
       "      <td>160296.36</td>\n",
       "      <td>M1979787155</td>\n",
       "      <td>0.0</td>\n",
       "      <td>0.0</td>\n",
       "      <td>0</td>\n",
       "      <td>0</td>\n",
       "    </tr>\n",
       "    <tr>\n",
       "      <th>1</th>\n",
       "      <td>1</td>\n",
       "      <td>PAYMENT</td>\n",
       "      <td>1864.28</td>\n",
       "      <td>C1666544295</td>\n",
       "      <td>21249.0</td>\n",
       "      <td>19384.72</td>\n",
       "      <td>M2044282225</td>\n",
       "      <td>0.0</td>\n",
       "      <td>0.0</td>\n",
       "      <td>0</td>\n",
       "      <td>0</td>\n",
       "    </tr>\n",
       "  </tbody>\n",
       "</table>\n",
       "</div>"
      ],
      "text/plain": [
       "   step     type   amount     nameOrig  oldbalanceOrig  newbalanceOrig  \\\n",
       "0     1  PAYMENT  9839.64  C1231006815        170136.0       160296.36   \n",
       "1     1  PAYMENT  1864.28  C1666544295         21249.0        19384.72   \n",
       "\n",
       "      nameDest  oldbalanceDest  newbalanceDest  isFraud  isFlaggedFraud  \n",
       "0  M1979787155             0.0             0.0        0               0  \n",
       "1  M2044282225             0.0             0.0        0               0  "
      ]
     },
     "execution_count": 7,
     "metadata": {},
     "output_type": "execute_result"
    }
   ],
   "source": [
    "df = df.rename(columns={'oldbalanceOrg' : 'oldbalanceOrig'})\n",
    "df.head(2)"
   ]
  },
  {
   "cell_type": "markdown",
   "id": "ecb44cd7-ca03-49a3-bb89-07d77cf006bf",
   "metadata": {},
   "source": [
    "Interesa, para el caso de estudio, descubrir cuándo es más frecuente que ocurran los fraudes. Por ello, se estudia la distribución de la variable type."
   ]
  },
  {
   "cell_type": "code",
   "execution_count": 8,
   "id": "606f79f7-8acc-45d7-a9d1-41ed6f43c7e1",
   "metadata": {
    "tags": []
   },
   "outputs": [
    {
     "name": "stdout",
     "output_type": "stream",
     "text": [
      "CASH_OUT    2237500\n",
      "PAYMENT     2151495\n",
      "CASH_IN     1399284\n",
      "TRANSFER     532909\n",
      "DEBIT         41432\n",
      "Name: type, dtype: int64\n"
     ]
    },
    {
     "data": {
      "text/plain": [
       "Text(0.5, 1.0, 'Distribución del tipo de transacción')"
      ]
     },
     "execution_count": 8,
     "metadata": {},
     "output_type": "execute_result"
    },
    {
     "data": {
      "image/png": "[encoded data removed]",
      "text/plain": [
       "<Figure size 800x400 with 1 Axes>"
      ]
     },
     "metadata": {},
     "output_type": "display_data"
    }
   ],
   "source": [
    "print(df['type'].value_counts())\n",
    "\n",
    "plt.rcParams['figure.figsize']=[8,4]\n",
    "sns.countplot(x='type', data=df, order=df['type'].value_counts().index)\n",
    "plt.xticks(rotation= 45) # Rotación del texto en el eje x\n",
    "plt.xlabel('Tipo de transacción')\n",
    "plt.ylabel('Número de transacciones')\n",
    "plt.title('Distribución del tipo de transacción')"
   ]
  },
  {
   "cell_type": "markdown",
   "id": "96888b71-e53d-44e5-9bb0-156d9a2ed994",
   "metadata": {},
   "source": [
    "Vemos que las transacciones más comunes son PAYMENTS y CASH_OUT"
   ]
  },
  {
   "cell_type": "markdown",
   "id": "b4439eba-eb30-484f-a5ce-f65e07e79dfc",
   "metadata": {},
   "source": [
    "**Ahora analizaremos nuestra variable objetivo o dependiente, la cual será \"isFraud\"**"
   ]
  },
  {
   "cell_type": "code",
   "execution_count": 9,
   "id": "5b5148d2-3f87-4d6d-ad00-e69584fb15d4",
   "metadata": {
    "tags": []
   },
   "outputs": [
    {
     "data": {
      "text/html": [
       "<div>\n",
       "<style scoped>\n",
       "    .dataframe tbody tr th:only-of-type {\n",
       "        vertical-align: middle;\n",
       "    }\n",
       "\n",
       "    .dataframe tbody tr th {\n",
       "        vertical-align: top;\n",
       "    }\n",
       "\n",
       "    .dataframe thead th {\n",
       "        text-align: right;\n",
       "    }\n",
       "</style>\n",
       "<table border=\"1\" class=\"dataframe\">\n",
       "  <thead>\n",
       "    <tr style=\"text-align: right;\">\n",
       "      <th></th>\n",
       "      <th>step</th>\n",
       "      <th>type</th>\n",
       "      <th>amount</th>\n",
       "      <th>nameOrig</th>\n",
       "      <th>oldbalanceOrig</th>\n",
       "      <th>newbalanceOrig</th>\n",
       "      <th>nameDest</th>\n",
       "      <th>oldbalanceDest</th>\n",
       "      <th>newbalanceDest</th>\n",
       "      <th>isFraud</th>\n",
       "      <th>isFlaggedFraud</th>\n",
       "    </tr>\n",
       "  </thead>\n",
       "  <tbody>\n",
       "    <tr>\n",
       "      <th>2</th>\n",
       "      <td>1</td>\n",
       "      <td>TRANSFER</td>\n",
       "      <td>181.0</td>\n",
       "      <td>C1305486145</td>\n",
       "      <td>181.0</td>\n",
       "      <td>0.0</td>\n",
       "      <td>C553264065</td>\n",
       "      <td>0.0</td>\n",
       "      <td>0.0</td>\n",
       "      <td>1</td>\n",
       "      <td>0</td>\n",
       "    </tr>\n",
       "    <tr>\n",
       "      <th>3</th>\n",
       "      <td>1</td>\n",
       "      <td>CASH_OUT</td>\n",
       "      <td>181.0</td>\n",
       "      <td>C840083671</td>\n",
       "      <td>181.0</td>\n",
       "      <td>0.0</td>\n",
       "      <td>C38997010</td>\n",
       "      <td>21182.0</td>\n",
       "      <td>0.0</td>\n",
       "      <td>1</td>\n",
       "      <td>0</td>\n",
       "    </tr>\n",
       "    <tr>\n",
       "      <th>251</th>\n",
       "      <td>1</td>\n",
       "      <td>TRANSFER</td>\n",
       "      <td>2806.0</td>\n",
       "      <td>C1420196421</td>\n",
       "      <td>2806.0</td>\n",
       "      <td>0.0</td>\n",
       "      <td>C972765878</td>\n",
       "      <td>0.0</td>\n",
       "      <td>0.0</td>\n",
       "      <td>1</td>\n",
       "      <td>0</td>\n",
       "    </tr>\n",
       "    <tr>\n",
       "      <th>252</th>\n",
       "      <td>1</td>\n",
       "      <td>CASH_OUT</td>\n",
       "      <td>2806.0</td>\n",
       "      <td>C2101527076</td>\n",
       "      <td>2806.0</td>\n",
       "      <td>0.0</td>\n",
       "      <td>C1007251739</td>\n",
       "      <td>26202.0</td>\n",
       "      <td>0.0</td>\n",
       "      <td>1</td>\n",
       "      <td>0</td>\n",
       "    </tr>\n",
       "    <tr>\n",
       "      <th>680</th>\n",
       "      <td>1</td>\n",
       "      <td>TRANSFER</td>\n",
       "      <td>20128.0</td>\n",
       "      <td>C137533655</td>\n",
       "      <td>20128.0</td>\n",
       "      <td>0.0</td>\n",
       "      <td>C1848415041</td>\n",
       "      <td>0.0</td>\n",
       "      <td>0.0</td>\n",
       "      <td>1</td>\n",
       "      <td>0</td>\n",
       "    </tr>\n",
       "  </tbody>\n",
       "</table>\n",
       "</div>"
      ],
      "text/plain": [
       "     step      type   amount     nameOrig  oldbalanceOrig  newbalanceOrig  \\\n",
       "2       1  TRANSFER    181.0  C1305486145           181.0             0.0   \n",
       "3       1  CASH_OUT    181.0   C840083671           181.0             0.0   \n",
       "251     1  TRANSFER   2806.0  C1420196421          2806.0             0.0   \n",
       "252     1  CASH_OUT   2806.0  C2101527076          2806.0             0.0   \n",
       "680     1  TRANSFER  20128.0   C137533655         20128.0             0.0   \n",
       "\n",
       "        nameDest  oldbalanceDest  newbalanceDest  isFraud  isFlaggedFraud  \n",
       "2     C553264065             0.0             0.0        1               0  \n",
       "3      C38997010         21182.0             0.0        1               0  \n",
       "251   C972765878             0.0             0.0        1               0  \n",
       "252  C1007251739         26202.0             0.0        1               0  \n",
       "680  C1848415041             0.0             0.0        1               0  "
      ]
     },
     "execution_count": 9,
     "metadata": {},
     "output_type": "execute_result"
    }
   ],
   "source": [
    "isFraud_df = df[df['isFraud'] == 1]\n",
    "\n",
    "isFraud_df.head()"
   ]
  },
  {
   "cell_type": "markdown",
   "id": "50051aa3-dbdb-4175-bcf4-e788ed77125b",
   "metadata": {},
   "source": [
    "**Respuesta a la pregunta 1:**\n",
    "**¿Qué porcentaje de casos fraudulentos se encuentran entre los datos?**\n"
   ]
  },
  {
   "cell_type": "code",
   "execution_count": 10,
   "id": "a13281e0-6dcb-465d-932e-f3e2f4b1cf2f",
   "metadata": {
    "tags": []
   },
   "outputs": [
    {
     "name": "stdout",
     "output_type": "stream",
     "text": [
      "el total de casos de estudio es de: 6362620\n",
      "El total de casos de fraudes es: 8213\n",
      "El porcentaje de casos de fraude es: 0.13 %\n"
     ]
    }
   ],
   "source": [
    "print('el total de casos de estudio es de:', df['isFraud'].count())\n",
    "totalFraud = df['isFraud'].sum()\n",
    "print(f'El total de casos de fraudes es: {totalFraud}' )\n",
    "percentFraud = (df['isFraud'].sum() / df['isFraud'].count())*100\n",
    "print(f'El porcentaje de casos de fraude es: {percentFraud:.2f} %')"
   ]
  },
  {
   "cell_type": "markdown",
   "id": "fb40f9bd-bb2d-4bd7-8f7b-36be97363b76",
   "metadata": {},
   "source": [
    "La cantidad de transacciones fraudulentas son muy pocas en comparación a las no fraudulentas, mas adelante las normalizaremos para evitar una generalización de nuestro modelo de predicción."
   ]
  },
  {
   "cell_type": "markdown",
   "id": "4892eb89-8659-495b-9f20-301df7f98867",
   "metadata": {},
   "source": [
    "Para tener una idea más clara de qué tipo de transacciones son más comunes a la hora de cometer fraude, realizamos el siguiente gráfico"
   ]
  },
  {
   "cell_type": "code",
   "execution_count": 11,
   "id": "c3525a13-a223-4df7-89b6-64d67719a679",
   "metadata": {
    "tags": []
   },
   "outputs": [
    {
     "name": "stdout",
     "output_type": "stream",
     "text": [
      "CASH_OUT    4116\n",
      "TRANSFER    4097\n",
      "Name: type, dtype: int64\n"
     ]
    },
    {
     "data": {
      "text/plain": [
       "Text(0.5, 1.0, 'Tipo de transacción cuando hay fraude')"
      ]
     },
     "execution_count": 11,
     "metadata": {},
     "output_type": "execute_result"
    },
    {
     "data": {
      "image/png": "[encoded data removed]",
      "text/plain": [
       "<Figure size 600x400 with 1 Axes>"
      ]
     },
     "metadata": {},
     "output_type": "display_data"
    }
   ],
   "source": [
    "print(df[(df['isFraud'] == 1)]['type'].value_counts())\n",
    "\n",
    "plt.figure(figsize=(6,4))\n",
    "sns.countplot(x='type', data=df[(df['isFraud'] == 1)], order=df[(df['isFraud'] == 1)]['type'].value_counts().index)\n",
    "plt.xticks(rotation= 45) # Rotación del texto en el eje x\n",
    "plt.xlabel('Tipo de transacción')\n",
    "plt.ylabel('Número de transacciones')\n",
    "plt.title('Tipo de transacción cuando hay fraude')"
   ]
  },
  {
   "cell_type": "markdown",
   "id": "f5b97af4-08b3-42e1-bb9c-9d4ce4b523b2",
   "metadata": {},
   "source": [
    "**Respuesta a la pregunta 2: ¿Cuales son los tipos de transacciones mas probables de que sean fraude?**\n",
    "\n",
    "Este gráfico revela información muy valiosa. Las transacciones fraudulentas sólo ocurren cuando es de tipo TRANSFER (transferencia) y CASH_OUT (sacar dinero)"
   ]
  },
  {
   "cell_type": "markdown",
   "id": "15d5d86d-71ab-4441-88cf-eb27fb3057ee",
   "metadata": {},
   "source": [
    "En el siguiente gráfico se puede ver la distribución de la variable \"isFraud\" con \"amount\"."
   ]
  },
  {
   "cell_type": "code",
   "execution_count": 12,
   "id": "d23c610e-66f6-4087-ab2e-2c4f65c9fb6e",
   "metadata": {
    "tags": []
   },
   "outputs": [
    {
     "data": {
      "text/plain": [
       "<Axes: xlabel='isFraud', ylabel='amount'>"
      ]
     },
     "execution_count": 12,
     "metadata": {},
     "output_type": "execute_result"
    },
    {
     "data": {
      "image/png": "[encoded data removed]",
      "text/plain": [
       "<Figure size 600x400 with 1 Axes>"
      ]
     },
     "metadata": {},
     "output_type": "display_data"
    }
   ],
   "source": [
    "plt.figure(figsize=(6,4))\n",
    "sns.boxplot(x = 'isFraud', y = 'amount', data = df[df.amount < 1e5])"
   ]
  },
  {
   "cell_type": "markdown",
   "id": "717f1f8e-d2d9-4e29-a226-8a44f13bced4",
   "metadata": {},
   "source": [
    "Se aprecia que el fraude ocurre de manera más frecuente cuando la variable amount es mayor"
   ]
  },
  {
   "cell_type": "markdown",
   "id": "ca051229-d745-4303-a667-ab208695e7db",
   "metadata": {},
   "source": [
    "**Analicemos ahora la variable \"isFlaggedFraud\"**"
   ]
  },
  {
   "cell_type": "code",
   "execution_count": 13,
   "id": "561f217b-f268-4163-b912-61286e97453e",
   "metadata": {
    "tags": []
   },
   "outputs": [
    {
     "name": "stdout",
     "output_type": "stream",
     "text": [
      "valores positivos:  (16, 11)\n",
      "-----------------------\n",
      "         step      type       amount     nameOrig  oldbalanceOrig  \\\n",
      "2736446   212  TRANSFER   4953893.08   C728984460      4953893.08   \n",
      "3247297   250  TRANSFER   1343002.08  C1100582606      1343002.08   \n",
      "3760288   279  TRANSFER    536624.41  C1035541766       536624.41   \n",
      "5563713   387  TRANSFER   4892193.09   C908544136      4892193.09   \n",
      "5996407   425  TRANSFER  10000000.00   C689608084     19585040.37   \n",
      "\n",
      "         newbalanceOrig     nameDest  oldbalanceDest  newbalanceDest  isFraud  \\\n",
      "2736446      4953893.08   C639921569             0.0             0.0        1   \n",
      "3247297      1343002.08  C1147517658             0.0             0.0        1   \n",
      "3760288       536624.41  C1100697970             0.0             0.0        1   \n",
      "5563713      4892193.09   C891140444             0.0             0.0        1   \n",
      "5996407     19585040.37  C1392803603             0.0             0.0        1   \n",
      "\n",
      "         isFlaggedFraud  \n",
      "2736446               1  \n",
      "3247297               1  \n",
      "3760288               1  \n",
      "5563713               1  \n",
      "5996407               1  \n",
      "         step      type       amount     nameOrig  oldbalanceOrig  \\\n",
      "6296014   671  TRANSFER   3441041.46   C917414431      3441041.46   \n",
      "6351225   702  TRANSFER   3171085.59  C1892216157      3171085.59   \n",
      "6362460   730  TRANSFER  10000000.00  C2140038573     17316255.05   \n",
      "6362462   730  TRANSFER   7316255.05  C1869569059     17316255.05   \n",
      "6362584   741  TRANSFER   5674547.89   C992223106      5674547.89   \n",
      "\n",
      "         newbalanceOrig     nameDest  oldbalanceDest  newbalanceDest  isFraud  \\\n",
      "6296014      3441041.46  C1082139865             0.0             0.0        1   \n",
      "6351225      3171085.59  C1308068787             0.0             0.0        1   \n",
      "6362460     17316255.05  C1395467927             0.0             0.0        1   \n",
      "6362462     17316255.05  C1861208726             0.0             0.0        1   \n",
      "6362584      5674547.89  C1366804249             0.0             0.0        1   \n",
      "\n",
      "         isFlaggedFraud  \n",
      "6296014               1  \n",
      "6351225               1  \n",
      "6362460               1  \n",
      "6362462               1  \n",
      "6362584               1  \n"
     ]
    }
   ],
   "source": [
    "isFlaggedFraud_df = df[(df['isFlaggedFraud'] == 1)]\n",
    "\n",
    "print('valores positivos: ' , isFlaggedFraud_df.shape)\n",
    "print('-----------------------')\n",
    "print(isFlaggedFraud_df.head())\n",
    "print(isFlaggedFraud_df.tail())"
   ]
  },
  {
   "cell_type": "markdown",
   "id": "da3d98fc-6e58-40c8-975f-88a6a9d3c0a0",
   "metadata": {},
   "source": [
    "Estudiando esta variable se detecta un patrón interesante. De los 16 registros existentes en el dataset, TODOS tienen las variables oldbalanceDest y newbalanceDest a 0.\n",
    "\n",
    "Además, la variable oldbalanceOrg y newbalanceOrg tienen también exactamente el mismo valor, no se descuenta la cantidad de dinero de la transacción\n",
    "\n",
    "También se aprecia que sólo las de type TRANSFER tienen la variable isFlaggedFraud a 1, es decir, sólo cuando hay una transacción superior a 200k, el sistema marca, de forma preventiva, esa transacción como fraudulenta"
   ]
  },
  {
   "cell_type": "code",
   "execution_count": 14,
   "id": "633e4da6-a6db-42ee-a3a5-14db9cf47cbe",
   "metadata": {
    "tags": []
   },
   "outputs": [
    {
     "name": "stdout",
     "output_type": "stream",
     "text": [
      "Existen 8213 observaciones que son fraude\n",
      "\n",
      "Las veces que aparecen ambas variables, newbalanceDest = oldbalanceDest = 0, cuando la observación es fraude es de 5366 veces\n",
      "\n",
      "El porcentaje de observaciones con 0 en las variables cuando hay fraude es del  65.34 % \n"
     ]
    }
   ],
   "source": [
    "# Total de transacciones fraudulentas\n",
    "\n",
    "total = df[(df['isFraud'] == 1)]['type'].count()\n",
    "print(f'Existen {total} observaciones que son fraude')\n",
    "print('')\n",
    "\n",
    "# Total de transacciones fraudulentas donde ambas variables dan 0\n",
    "\n",
    "ambas = isFraud_df[(isFraud_df['newbalanceDest'] == 0) | (isFraud_df['oldbalanceDest'] == 0)].count()['oldbalanceDest']\n",
    "print(f'Las veces que aparecen ambas variables, newbalanceDest = oldbalanceDest = 0, cuando la observación es fraude es de {ambas} veces')\n",
    "print('')\n",
    "\n",
    "# Calculo del porcentaje\n",
    "\n",
    "porcentaje = (ambas / total) * 100 \n",
    "print(f'El porcentaje de observaciones con 0 en las variables cuando hay fraude es del {porcentaje: .2f} % ')"
   ]
  },
  {
   "cell_type": "markdown",
   "id": "506a6c56-b14c-47cd-97ea-799b4de29295",
   "metadata": {
    "tags": []
   },
   "source": [
    "**Observemos ahora el dataframe sin fraude para ver su comportamiento:**"
   ]
  },
  {
   "cell_type": "code",
   "execution_count": 15,
   "id": "01867f06-c5e8-4214-9002-e8c5113aadff",
   "metadata": {
    "tags": []
   },
   "outputs": [
    {
     "name": "stdout",
     "output_type": "stream",
     "text": [
      "Existen un total de 6354407 transacciones no fraudulentas\n",
      "\n",
      "La cantidad de veces que ambas variables, oldbalanceDest y newbalanceDest son iguales a 0 son 2826539 veces \n",
      "\n",
      "El porcentaje de observaciones con 0 en las variables cuando no es fraude es del  44.48 %\n"
     ]
    }
   ],
   "source": [
    "# Total de transacciones no fraudulentas\n",
    "\n",
    "total2 = df[(df['isFraud'] == 0 )]['type'].count()\n",
    "print(f'Existen un total de {total2} transacciones no fraudulentas')\n",
    "print('')\n",
    "\n",
    "# Total de transacciones fraudulentas donde ambas variables dan 0\n",
    "\n",
    "ambas2 = df[(df['newbalanceDest'] == 0) | (df['oldbalanceDest'] == 0)].count()['oldbalanceDest']\n",
    "print(f'La cantidad de veces que ambas variables, oldbalanceDest y newbalanceDest son iguales a 0 son {ambas2} veces ')\n",
    "print('')\n",
    "\n",
    "# Porcentaje de transacciones no fraudulentas\n",
    "\n",
    "porcentaje2 = (ambas2 / total2) * 100\n",
    "print(f'El porcentaje de observaciones con 0 en las variables cuando no es fraude es del {porcentaje2: .2f} %')"
   ]
  },
  {
   "cell_type": "markdown",
   "id": "049e90c3-2834-417b-82ce-4ed313bb8b1d",
   "metadata": {},
   "source": [
    "En resumen: el porcentaje de las variables oldbalanceDest y newbalanceDest iguales a 0 es mayor cuando hay fraude."
   ]
  },
  {
   "cell_type": "markdown",
   "id": "85554843-7085-4a66-b352-8a6e1b2e862a",
   "metadata": {
    "tags": []
   },
   "source": [
    "**Ahora analizaremos las variables oldbalanceOrig y newbalanceOrig**\n",
    "\n",
    "Para estas variables se va a comprobar la cantidad de veces que ambas variables tienen el mismo valor, es decir, cuando oldbalanceOrig = newbalanceOrig"
   ]
  },
  {
   "cell_type": "code",
   "execution_count": 16,
   "id": "79b069e3-f328-4227-a3b2-05f05195974c",
   "metadata": {
    "tags": []
   },
   "outputs": [
    {
     "name": "stdout",
     "output_type": "stream",
     "text": [
      "La cantidad de veces en la que \"oldbalanceOrig\" = \"newbalanceOrig\" en los casos de fraude es de 57 veces\n",
      "\n",
      "El porcentaje es de  0.69 %\n"
     ]
    }
   ],
   "source": [
    "ambos3 = isFraud_df[(isFraud_df['oldbalanceOrig'] == isFraud_df['newbalanceOrig'])].count()['oldbalanceOrig']\n",
    "print(f'La cantidad de veces en la que \"oldbalanceOrig\" = \"newbalanceOrig\" en los casos de fraude es de {ambos3} veces')\n",
    "print('')\n",
    "\n",
    "porcentaje3 = (ambos3/total)*100\n",
    "print(f'El porcentaje es de {porcentaje3: .2f} %')"
   ]
  },
  {
   "cell_type": "markdown",
   "id": "e71b2d90-c84f-43e6-bad5-5ec0f681f784",
   "metadata": {
    "tags": []
   },
   "source": [
    "**Y ahora analizaremos la misma relación pero en el dataset sin fraude:**"
   ]
  },
  {
   "cell_type": "code",
   "execution_count": 17,
   "id": "a25e7cf4-7836-41ed-95c8-e3e2b9e38f3b",
   "metadata": {
    "tags": []
   },
   "outputs": [
    {
     "name": "stdout",
     "output_type": "stream",
     "text": [
      "La cantidad de veces en la que \"oldbalanceOrig\" = \"newbalanceOrig\" en total es de 2089037 veces\n",
      "\n",
      "El porcentaje de veces que esto sucede es de  32.88 %\n"
     ]
    }
   ],
   "source": [
    "ambos4 = df[(df['oldbalanceOrig'] == df['newbalanceOrig'])].count()['oldbalanceOrig']\n",
    "print(f'La cantidad de veces en la que \"oldbalanceOrig\" = \"newbalanceOrig\" en total es de {ambos4} veces')\n",
    "print('')\n",
    "\n",
    "porcentaje4 = (ambos4 / total2) * 100\n",
    "print(f'El porcentaje de veces que esto sucede es de {porcentaje4: .2f} %')"
   ]
  },
  {
   "cell_type": "markdown",
   "id": "6c3bd503-7f16-4b30-b1c7-2377c2104fef",
   "metadata": {},
   "source": [
    "Podemos corroborar que la mayoria de las veces son iguales en los casos en lo que \"No hubo Fraude\""
   ]
  },
  {
   "cell_type": "markdown",
   "id": "d433c044-5685-4b29-b3d0-906450745d4e",
   "metadata": {},
   "source": [
    "**Análisis de la variable Step**\n",
    "\n",
    "La variable \"Step\" representa el lapso de tiempo (30 días) desde que se realizó la operación. Cada unidad de step representa 1 hora tiempo"
   ]
  },
  {
   "cell_type": "code",
   "execution_count": 18,
   "id": "591f5f49-2748-4fb8-bee7-a3f4724c8213",
   "metadata": {
    "tags": []
   },
   "outputs": [
    {
     "data": {
      "image/png": "[encoded data removed]",
      "text/plain": [
       "<Figure size 800x400 with 1 Axes>"
      ]
     },
     "metadata": {},
     "output_type": "display_data"
    },
    {
     "data": {
      "image/png": "[encoded data removed]",
      "text/plain": [
       "<Figure size 800x400 with 1 Axes>"
      ]
     },
     "metadata": {},
     "output_type": "display_data"
    },
    {
     "data": {
      "text/plain": [
       "<Figure size 2000x1000 with 0 Axes>"
      ]
     },
     "metadata": {},
     "output_type": "display_data"
    }
   ],
   "source": [
    "bins = 50\n",
    "\n",
    "df[(df['isFraud'] == 0)].hist(column=\"step\",color=\"green\",bins=bins)\n",
    "plt.xlabel(\"1 hour time step\")\n",
    "plt.ylabel(\"# of transactions\")\n",
    "plt.title(\"# of valid transactions over time\")\n",
    "\n",
    "df[(df['isFraud'] == 1)].hist(column =\"step\",color=\"red\",bins=bins)\n",
    "plt.xlabel(\"1 hour time step\")\n",
    "plt.ylabel(\"# of transactions\")\n",
    "plt.title(\"# of fraud transactions over time\")\n",
    "\n",
    "plt.figure(figsize=(20,10))\n",
    "plt.show()\n"
   ]
  },
  {
   "cell_type": "markdown",
   "id": "4e6839d7-f0f2-4708-b09d-76b10c044c53",
   "metadata": {},
   "source": [
    "Se puede observar que luego de las 400 horas las transacciones reales disminuyen considerablemente, mientras que las fraudulentas se mantienen constantes.\n",
    "\n",
    "Esto nos indica que luego de las 400 horas de efectuada la transacción, si el ritmo no disminuye hay más posibilidad de que sean operaciones fraudulentas."
   ]
  },
  {
   "cell_type": "markdown",
   "id": "38dd6bd6-6101-484e-9246-8132c6b5826c",
   "metadata": {
    "tags": []
   },
   "source": [
    "**MODELADO DE LOS DATOS**\n",
    "--\n",
    "\n",
    "Como podemos ver nuestro dataset cuenta con variables categóricas y numéricas. Lo que debemos hacer es primero eliminar las variables que no son relevantes y a las categóricas transformarlas en numéricas"
   ]
  },
  {
   "cell_type": "code",
   "execution_count": 19,
   "id": "925b519f-39e8-4c85-986a-ead7a7ae6fb4",
   "metadata": {
    "tags": []
   },
   "outputs": [
    {
     "name": "stderr",
     "output_type": "stream",
     "text": [
      "C:\\Users\\Francisco\\AppData\\Local\\Temp\\ipykernel_5724\\678391866.py:5: FutureWarning: In a future version of pandas all arguments of DataFrame.drop except for the argument 'labels' will be keyword-only.\n",
      "  dataset = dataset.drop(['type', 'nameOrig', 'nameDest'],1)\n"
     ]
    },
    {
     "data": {
      "text/html": [
       "<div>\n",
       "<style scoped>\n",
       "    .dataframe tbody tr th:only-of-type {\n",
       "        vertical-align: middle;\n",
       "    }\n",
       "\n",
       "    .dataframe tbody tr th {\n",
       "        vertical-align: top;\n",
       "    }\n",
       "\n",
       "    .dataframe thead th {\n",
       "        text-align: right;\n",
       "    }\n",
       "</style>\n",
       "<table border=\"1\" class=\"dataframe\">\n",
       "  <thead>\n",
       "    <tr style=\"text-align: right;\">\n",
       "      <th></th>\n",
       "      <th>step</th>\n",
       "      <th>amount</th>\n",
       "      <th>oldbalanceOrig</th>\n",
       "      <th>newbalanceOrig</th>\n",
       "      <th>oldbalanceDest</th>\n",
       "      <th>newbalanceDest</th>\n",
       "      <th>CASH_IN</th>\n",
       "      <th>CASH_OUT</th>\n",
       "      <th>DEBIT</th>\n",
       "      <th>PAYMENT</th>\n",
       "      <th>TRANSFER</th>\n",
       "      <th>isFraud</th>\n",
       "      <th>isFlaggedFraud</th>\n",
       "    </tr>\n",
       "  </thead>\n",
       "  <tbody>\n",
       "    <tr>\n",
       "      <th>0</th>\n",
       "      <td>1</td>\n",
       "      <td>9839.64</td>\n",
       "      <td>170136.0</td>\n",
       "      <td>160296.36</td>\n",
       "      <td>0.0</td>\n",
       "      <td>0.0</td>\n",
       "      <td>0</td>\n",
       "      <td>0</td>\n",
       "      <td>0</td>\n",
       "      <td>1</td>\n",
       "      <td>0</td>\n",
       "      <td>0</td>\n",
       "      <td>0</td>\n",
       "    </tr>\n",
       "    <tr>\n",
       "      <th>1</th>\n",
       "      <td>1</td>\n",
       "      <td>1864.28</td>\n",
       "      <td>21249.0</td>\n",
       "      <td>19384.72</td>\n",
       "      <td>0.0</td>\n",
       "      <td>0.0</td>\n",
       "      <td>0</td>\n",
       "      <td>0</td>\n",
       "      <td>0</td>\n",
       "      <td>1</td>\n",
       "      <td>0</td>\n",
       "      <td>0</td>\n",
       "      <td>0</td>\n",
       "    </tr>\n",
       "    <tr>\n",
       "      <th>2</th>\n",
       "      <td>1</td>\n",
       "      <td>181.00</td>\n",
       "      <td>181.0</td>\n",
       "      <td>0.00</td>\n",
       "      <td>0.0</td>\n",
       "      <td>0.0</td>\n",
       "      <td>0</td>\n",
       "      <td>0</td>\n",
       "      <td>0</td>\n",
       "      <td>0</td>\n",
       "      <td>1</td>\n",
       "      <td>1</td>\n",
       "      <td>0</td>\n",
       "    </tr>\n",
       "    <tr>\n",
       "      <th>3</th>\n",
       "      <td>1</td>\n",
       "      <td>181.00</td>\n",
       "      <td>181.0</td>\n",
       "      <td>0.00</td>\n",
       "      <td>21182.0</td>\n",
       "      <td>0.0</td>\n",
       "      <td>0</td>\n",
       "      <td>1</td>\n",
       "      <td>0</td>\n",
       "      <td>0</td>\n",
       "      <td>0</td>\n",
       "      <td>1</td>\n",
       "      <td>0</td>\n",
       "    </tr>\n",
       "    <tr>\n",
       "      <th>4</th>\n",
       "      <td>1</td>\n",
       "      <td>11668.14</td>\n",
       "      <td>41554.0</td>\n",
       "      <td>29885.86</td>\n",
       "      <td>0.0</td>\n",
       "      <td>0.0</td>\n",
       "      <td>0</td>\n",
       "      <td>0</td>\n",
       "      <td>0</td>\n",
       "      <td>1</td>\n",
       "      <td>0</td>\n",
       "      <td>0</td>\n",
       "      <td>0</td>\n",
       "    </tr>\n",
       "  </tbody>\n",
       "</table>\n",
       "</div>"
      ],
      "text/plain": [
       "   step    amount  oldbalanceOrig  newbalanceOrig  oldbalanceDest  \\\n",
       "0     1   9839.64        170136.0       160296.36             0.0   \n",
       "1     1   1864.28         21249.0        19384.72             0.0   \n",
       "2     1    181.00           181.0            0.00             0.0   \n",
       "3     1    181.00           181.0            0.00         21182.0   \n",
       "4     1  11668.14         41554.0        29885.86             0.0   \n",
       "\n",
       "   newbalanceDest  CASH_IN  CASH_OUT  DEBIT  PAYMENT  TRANSFER  isFraud  \\\n",
       "0             0.0        0         0      0        1         0        0   \n",
       "1             0.0        0         0      0        1         0        0   \n",
       "2             0.0        0         0      0        0         1        1   \n",
       "3             0.0        0         1      0        0         0        1   \n",
       "4             0.0        0         0      0        1         0        0   \n",
       "\n",
       "   isFlaggedFraud  \n",
       "0               0  \n",
       "1               0  \n",
       "2               0  \n",
       "3               0  \n",
       "4               0  "
      ]
     },
     "execution_count": 19,
     "metadata": {},
     "output_type": "execute_result"
    }
   ],
   "source": [
    "# Transformamos las categorías de \"type\" en columnas con la función get_dummie\n",
    "dataset = pd.concat([df.drop(columns=['isFraud','isFlaggedFraud']),pd.get_dummies(df.type)] ,axis=1)\n",
    "\n",
    "# Eliminamos las columnas que no van a ser relevantes para este estudio\n",
    "dataset = dataset.drop(['type', 'nameOrig', 'nameDest'],1)\n",
    "\n",
    "# concatenamos df con dataset para finalizar\n",
    "dataset = pd.concat([dataset,df.iloc[:,-2:]],axis=1)\n",
    "\n",
    "dataset.head()"
   ]
  },
  {
   "cell_type": "markdown",
   "id": "7a6491eb-9ea6-42c5-b407-4fcfe446c029",
   "metadata": {},
   "source": [
    "**ANÁLISIS DE REDUNDANCIA**\n",
    "\n",
    "En este paso se comprobará la redundancia de cada propiedad mediante la correlación de Pearson usando un mapa de calor con la libreria Seaborn."
   ]
  },
  {
   "cell_type": "code",
   "execution_count": 20,
   "id": "acb3a022-6c8a-47b1-8775-b89f64d8628d",
   "metadata": {
    "tags": []
   },
   "outputs": [
    {
     "data": {
      "image/png": "[encoded data removed]",
      "text/plain": [
       "<Figure size 1000x600 with 2 Axes>"
      ]
     },
     "metadata": {},
     "output_type": "display_data"
    }
   ],
   "source": [
    "corrmat = dataset.corr()\n",
    "\n",
    "plt.figure(figsize=(10,6))\n",
    "sns.heatmap(corrmat, annot=True)\n",
    "plt.title(\"Matriz de correlación\")\n",
    "plt.show()"
   ]
  },
  {
   "cell_type": "markdown",
   "id": "e537d6a2-feb1-4b81-9bc7-b9f7e7e8bd2c",
   "metadata": {},
   "source": [
    "**Respuesta a la pregunta 3: ¿Cuáles son las propiedades que mayor correlatividad tienen con nuestra variable objetivo?**\n",
    "\n",
    "Se puede observar una enorme correlacion enre las siguientes variables:\n",
    "\n",
    "oldbalanceDest y newbalanceDest\n",
    "oldbalanceOrg y newbalanceOrig\n",
    "Esta correlación es debida a la clara influencia que existen entre las variables. Por ejemplo, cuando se envia dinero a un destinatario, ese alguien aumenta su capital, mientras que el origen disminuye."
   ]
  },
  {
   "cell_type": "markdown",
   "id": "7f9cb6f9-95c3-44d8-91ee-955c5196ef63",
   "metadata": {},
   "source": [
    "**Duplicados**\n",
    "\n",
    "Ahora comprobaremos que no existan registros duplicados mediante el método de python duplicated(), selecciona los registros coincidentes, excepto la primera ocurrencia de cada coincidencia, basandose en todas las columnas"
   ]
  },
  {
   "cell_type": "code",
   "execution_count": 21,
   "id": "f0e16928-fac8-47cb-b9ca-bb3d2df6b93b",
   "metadata": {
    "tags": []
   },
   "outputs": [
    {
     "data": {
      "text/plain": [
       "False"
      ]
     },
     "execution_count": 21,
     "metadata": {},
     "output_type": "execute_result"
    }
   ],
   "source": [
    "df.duplicated().any()"
   ]
  },
  {
   "cell_type": "markdown",
   "id": "c6034e04-e238-488f-af4e-f1fa559b95b1",
   "metadata": {},
   "source": [
    "**ENTRENAMIENTO DEL ALGORITMO**\n",
    "--\n",
    "\n",
    "Para este método de estudio aplicamos el algoritmo de Arbol de decisiones y la regresión logística que creo darían una respuesta bastante precisa"
   ]
  },
  {
   "cell_type": "markdown",
   "id": "82fd8795-da3c-4cc3-a4f2-834404378e73",
   "metadata": {},
   "source": [
    "**Parte 1: Arbol de decisiones sin balanceo de clases**"
   ]
  },
  {
   "cell_type": "code",
   "execution_count": 22,
   "id": "18ffdff8-72ba-4637-98e0-0b8af2969116",
   "metadata": {
    "tags": []
   },
   "outputs": [],
   "source": [
    "# Separamos nuestro dataframe en una parte de entrenamiento y una de testeo\n",
    "train_X, test_X, train_y, test_y = train_test_split( dataset.drop(columns=[\"isFraud\"]), dataset['isFraud'], random_state=0)\n",
    "\n",
    "# Se escoge el arbol de decisiones\n",
    "DT = tree.DecisionTreeClassifier()\n",
    "\n",
    "# se entrena el modelo con el dataset de entrenamiento\n",
    "DT.fit(train_X, train_y)\n",
    "\n",
    "# predice la clase de test\n",
    "DTpredictions = DT.predict(test_X)"
   ]
  },
  {
   "cell_type": "code",
   "execution_count": 23,
   "id": "4b3314c6-52a5-4e22-9a42-6d30410113df",
   "metadata": {
    "tags": []
   },
   "outputs": [
    {
     "name": "stdout",
     "output_type": "stream",
     "text": [
      "0.9997089249397261\n",
      "[[1588409     219]\n",
      " [    244    1783]]\n",
      "              precision    recall  f1-score   support\n",
      "\n",
      "           0       1.00      1.00      1.00   1588628\n",
      "           1       0.89      0.88      0.89      2027\n",
      "\n",
      "    accuracy                           1.00   1590655\n",
      "   macro avg       0.95      0.94      0.94   1590655\n",
      "weighted avg       1.00      1.00      1.00   1590655\n",
      "\n"
     ]
    }
   ],
   "source": [
    "# Evaluamos nuestra predicción\n",
    "print(DT.score(test_X, test_y))\n",
    "print(confusion_matrix(test_y, DTpredictions))\n",
    "print(classification_report(test_y, DTpredictions))"
   ]
  },
  {
   "cell_type": "markdown",
   "id": "91a00b89-033f-4ec3-8d79-09ad0c891fda",
   "metadata": {},
   "source": [
    "**Resultado 1: Arbol de decisiones sin balanceo de clases**\n",
    "\n",
    "Se observa un buen rendimiento pero se nota que detecta mejor una clase que otra\n",
    "\n",
    "Podríamos probar balanceando las clases"
   ]
  },
  {
   "cell_type": "markdown",
   "id": "9364f480-27a6-44cc-9c69-b96bb82213ff",
   "metadata": {},
   "source": [
    "**Parte 2: Regresión logística sin balanceo de clases**"
   ]
  },
  {
   "cell_type": "code",
   "execution_count": 24,
   "id": "2ad41090-277f-4437-a2e8-e941dbb0a69f",
   "metadata": {
    "tags": []
   },
   "outputs": [],
   "source": [
    "# Se escoge la regresión logística\n",
    "LR = LogisticRegression()\n",
    "\n",
    "# se entrena el modelo con el dataset de entrenamiento\n",
    "LR.fit(train_X, train_y)\n",
    "\n",
    "# predice la clase de test\n",
    "LRpredictions = LR.predict(test_X)"
   ]
  },
  {
   "cell_type": "code",
   "execution_count": 25,
   "id": "4b0654cc-a1bd-40d9-bc84-dc9892bd6123",
   "metadata": {
    "tags": []
   },
   "outputs": [
    {
     "name": "stdout",
     "output_type": "stream",
     "text": [
      "0.9982874979175246\n",
      "[[1587063    1565]\n",
      " [   1159     868]]\n",
      "              precision    recall  f1-score   support\n",
      "\n",
      "           0       1.00      1.00      1.00   1588628\n",
      "           1       0.36      0.43      0.39      2027\n",
      "\n",
      "    accuracy                           1.00   1590655\n",
      "   macro avg       0.68      0.71      0.69   1590655\n",
      "weighted avg       1.00      1.00      1.00   1590655\n",
      "\n"
     ]
    }
   ],
   "source": [
    "print(LR.score(test_X, test_y))\n",
    "print(confusion_matrix(test_y, LRpredictions))\n",
    "print(classification_report(test_y, LRpredictions))"
   ]
  },
  {
   "cell_type": "markdown",
   "id": "ea2ae8d8-1218-449d-9432-fba63ac47458",
   "metadata": {},
   "source": [
    "Se aprecia que, aunque el accuracy del modelo es del 99.8%, este no es tan bueno como parece.\n",
    "\n",
    "Si nos fijamos en la matriz de confusión, este modelo clasifica perfectamente las operaciones reales, pero las que son fraudulentas sólo es capaz de clasificarlas correctamente un 34% de las veces. Esto se debe a que al estar desbalanceadas las clases el modelo generaliza tendiendo a clasificar las operaciones como reales, ya que las reales representan la mayoria de los casos"
   ]
  },
  {
   "cell_type": "markdown",
   "id": "d1eb66d8-6860-45c9-bf0d-ff3167a92849",
   "metadata": {},
   "source": [
    "**BALANCEO DE CLASES**\n",
    "\n",
    "Al contar con esta ingente cantidad de observaciones, se aprecia un desbalenceo importante en las clases de la variable objetivo. El porcentaje de observaciones clasificadas como fraudes es de apenas un 0.13%"
   ]
  },
  {
   "cell_type": "code",
   "execution_count": 26,
   "id": "a6474127-d76f-4552-ad61-cd4fbaacc7ef",
   "metadata": {
    "tags": []
   },
   "outputs": [
    {
     "name": "stdout",
     "output_type": "stream",
     "text": [
      "El porcentaje de operaciones fraudulentas es  0.13 %\n"
     ]
    }
   ],
   "source": [
    "total = dataset['isFraud'].value_counts()[0] + df['isFraud'].value_counts()[1]\n",
    "fraud = (df['isFraud'].value_counts()[1]/total) * 100\n",
    "print(f'El porcentaje de operaciones fraudulentas es {fraud: .2f} %')"
   ]
  },
  {
   "cell_type": "markdown",
   "id": "db8d2793-75a3-4f1c-985f-81b62b091c79",
   "metadata": {},
   "source": [
    "Probaremos balancear las clases mediante los métodos oversampling, undersampling y smooten que combina ambos para ver cuál da mejores resultados"
   ]
  },
  {
   "cell_type": "markdown",
   "id": "b81e6c45-1eef-4afc-905a-f4a5a0d9da1d",
   "metadata": {},
   "source": [
    "**Undersampling**\n",
    "\n",
    "Consiste en eliminar muestras de la clase mayoritaria para poder nivelar ambas clases."
   ]
  },
  {
   "cell_type": "code",
   "execution_count": 27,
   "id": "dd52a3a8-67b6-4c55-8a5c-a07a5d44ac9b",
   "metadata": {
    "tags": []
   },
   "outputs": [
    {
     "name": "stderr",
     "output_type": "stream",
     "text": [
      "C:\\Users\\Francisco\\AppData\\Local\\Temp\\ipykernel_5724\\1315434665.py:4: FutureWarning: In a future version of pandas all arguments of DataFrame.drop except for the argument 'labels' will be keyword-only.\n",
      "  X = dataset.drop('isFraud',1)\n"
     ]
    },
    {
     "name": "stdout",
     "output_type": "stream",
     "text": [
      "0    8213\n",
      "1    8213\n",
      "Name: isFraud, dtype: int64\n"
     ]
    }
   ],
   "source": [
    "columns = dataset.columns\n",
    "\n",
    "# Creamos las variables independientes, y la dependiente que sería isFraud = 1\n",
    "X = dataset.drop('isFraud',1)\n",
    "y = dataset.isFraud\n",
    "\n",
    "# Balanceamos la cantidad de muestras para que se equiparen con las de menor cantidad\n",
    "undersample = RandomUnderSampler(random_state=0)\n",
    "X_under, y_under = undersample.fit_resample(X, y)\n",
    "\n",
    "print(pd.Series(y_under).value_counts())"
   ]
  },
  {
   "cell_type": "code",
   "execution_count": 28,
   "id": "c311bd52-b67c-4d32-8967-6abcbf2c7095",
   "metadata": {
    "tags": []
   },
   "outputs": [],
   "source": [
    "columns_X = np.delete(columns, 11)\n",
    "columns_y = columns[-2]"
   ]
  },
  {
   "cell_type": "code",
   "execution_count": 29,
   "id": "ce6c5a55-9532-446c-9f48-d69040eb6e8c",
   "metadata": {
    "tags": []
   },
   "outputs": [
    {
     "data": {
      "text/html": [
       "<div>\n",
       "<style scoped>\n",
       "    .dataframe tbody tr th:only-of-type {\n",
       "        vertical-align: middle;\n",
       "    }\n",
       "\n",
       "    .dataframe tbody tr th {\n",
       "        vertical-align: top;\n",
       "    }\n",
       "\n",
       "    .dataframe thead th {\n",
       "        text-align: right;\n",
       "    }\n",
       "</style>\n",
       "<table border=\"1\" class=\"dataframe\">\n",
       "  <thead>\n",
       "    <tr style=\"text-align: right;\">\n",
       "      <th></th>\n",
       "      <th>step</th>\n",
       "      <th>amount</th>\n",
       "      <th>oldbalanceOrig</th>\n",
       "      <th>newbalanceOrig</th>\n",
       "      <th>oldbalanceDest</th>\n",
       "      <th>newbalanceDest</th>\n",
       "      <th>CASH_IN</th>\n",
       "      <th>CASH_OUT</th>\n",
       "      <th>DEBIT</th>\n",
       "      <th>PAYMENT</th>\n",
       "      <th>TRANSFER</th>\n",
       "      <th>isFlaggedFraud</th>\n",
       "      <th>isFraud</th>\n",
       "    </tr>\n",
       "  </thead>\n",
       "  <tbody>\n",
       "    <tr>\n",
       "      <th>0</th>\n",
       "      <td>139</td>\n",
       "      <td>265803.35</td>\n",
       "      <td>0.00</td>\n",
       "      <td>0.00</td>\n",
       "      <td>751669.39</td>\n",
       "      <td>1017472.74</td>\n",
       "      <td>0</td>\n",
       "      <td>1</td>\n",
       "      <td>0</td>\n",
       "      <td>0</td>\n",
       "      <td>0</td>\n",
       "      <td>0</td>\n",
       "      <td>0</td>\n",
       "    </tr>\n",
       "    <tr>\n",
       "      <th>1</th>\n",
       "      <td>589</td>\n",
       "      <td>11278.28</td>\n",
       "      <td>0.00</td>\n",
       "      <td>0.00</td>\n",
       "      <td>220970.84</td>\n",
       "      <td>232249.12</td>\n",
       "      <td>0</td>\n",
       "      <td>1</td>\n",
       "      <td>0</td>\n",
       "      <td>0</td>\n",
       "      <td>0</td>\n",
       "      <td>0</td>\n",
       "      <td>0</td>\n",
       "    </tr>\n",
       "    <tr>\n",
       "      <th>2</th>\n",
       "      <td>284</td>\n",
       "      <td>16363.06</td>\n",
       "      <td>35966.16</td>\n",
       "      <td>19603.10</td>\n",
       "      <td>0.00</td>\n",
       "      <td>0.00</td>\n",
       "      <td>0</td>\n",
       "      <td>0</td>\n",
       "      <td>0</td>\n",
       "      <td>1</td>\n",
       "      <td>0</td>\n",
       "      <td>0</td>\n",
       "      <td>0</td>\n",
       "    </tr>\n",
       "    <tr>\n",
       "      <th>3</th>\n",
       "      <td>37</td>\n",
       "      <td>107223.31</td>\n",
       "      <td>20752629.71</td>\n",
       "      <td>20859853.02</td>\n",
       "      <td>804594.62</td>\n",
       "      <td>571711.22</td>\n",
       "      <td>1</td>\n",
       "      <td>0</td>\n",
       "      <td>0</td>\n",
       "      <td>0</td>\n",
       "      <td>0</td>\n",
       "      <td>0</td>\n",
       "      <td>0</td>\n",
       "    </tr>\n",
       "    <tr>\n",
       "      <th>4</th>\n",
       "      <td>287</td>\n",
       "      <td>3678.25</td>\n",
       "      <td>0.00</td>\n",
       "      <td>0.00</td>\n",
       "      <td>0.00</td>\n",
       "      <td>0.00</td>\n",
       "      <td>0</td>\n",
       "      <td>0</td>\n",
       "      <td>0</td>\n",
       "      <td>1</td>\n",
       "      <td>0</td>\n",
       "      <td>0</td>\n",
       "      <td>0</td>\n",
       "    </tr>\n",
       "  </tbody>\n",
       "</table>\n",
       "</div>"
      ],
      "text/plain": [
       "   step     amount  oldbalanceOrig  newbalanceOrig  oldbalanceDest  \\\n",
       "0   139  265803.35            0.00            0.00       751669.39   \n",
       "1   589   11278.28            0.00            0.00       220970.84   \n",
       "2   284   16363.06        35966.16        19603.10            0.00   \n",
       "3    37  107223.31     20752629.71     20859853.02       804594.62   \n",
       "4   287    3678.25            0.00            0.00            0.00   \n",
       "\n",
       "   newbalanceDest  CASH_IN  CASH_OUT  DEBIT  PAYMENT  TRANSFER  \\\n",
       "0      1017472.74        0         1      0        0         0   \n",
       "1       232249.12        0         1      0        0         0   \n",
       "2            0.00        0         0      0        1         0   \n",
       "3       571711.22        1         0      0        0         0   \n",
       "4            0.00        0         0      0        1         0   \n",
       "\n",
       "   isFlaggedFraud  isFraud  \n",
       "0               0        0  \n",
       "1               0        0  \n",
       "2               0        0  \n",
       "3               0        0  \n",
       "4               0        0  "
      ]
     },
     "execution_count": 29,
     "metadata": {},
     "output_type": "execute_result"
    }
   ],
   "source": [
    "X_df = pd.DataFrame(X_under, columns=columns_X)\n",
    "y_df = pd.DataFrame(y_under, columns=[columns_y])\n",
    "\n",
    "under_df = pd.concat([X_df, y_df], axis=1)\n",
    "under_df.head()"
   ]
  },
  {
   "cell_type": "code",
   "execution_count": 30,
   "id": "3594fa46-7118-434a-9be5-c27029f43b0e",
   "metadata": {
    "tags": []
   },
   "outputs": [],
   "source": [
    "# Separamos nuestro dataframe en una parte de entrenamiento y una de testeo\n",
    "train_X, test_X, train_y, test_y = train_test_split( under_df.drop(columns=[\"isFraud\"]), under_df['isFraud'], random_state=0)"
   ]
  },
  {
   "cell_type": "markdown",
   "id": "a0f5135c-e2af-4414-b207-38c336c74d42",
   "metadata": {},
   "source": [
    "**Parte 3: Arbol de decisión con undersampling**"
   ]
  },
  {
   "cell_type": "code",
   "execution_count": 31,
   "id": "199b996e-ab0e-49e5-8e84-1866c2a677ac",
   "metadata": {},
   "outputs": [],
   "source": [
    "# Se escoge el arbol de decisiones\n",
    "DT = tree.DecisionTreeClassifier()\n",
    "\n",
    "# se entrena el modelo con el dataset de entrenamiento\n",
    "DT.fit(train_X, train_y)\n",
    "\n",
    "# predecimos la clase con los datos de prueba\n",
    "DTpredictions_under = DT.predict(test_X)"
   ]
  },
  {
   "cell_type": "code",
   "execution_count": 32,
   "id": "e59cf86f-cf4b-4886-9f4d-d78d83511e93",
   "metadata": {
    "tags": []
   },
   "outputs": [
    {
     "name": "stdout",
     "output_type": "stream",
     "text": [
      "0.990990990990991\n",
      "[[2016   19]\n",
      " [  18 2054]]\n",
      "              precision    recall  f1-score   support\n",
      "\n",
      "           0       0.99      0.99      0.99      2035\n",
      "           1       0.99      0.99      0.99      2072\n",
      "\n",
      "    accuracy                           0.99      4107\n",
      "   macro avg       0.99      0.99      0.99      4107\n",
      "weighted avg       0.99      0.99      0.99      4107\n",
      "\n"
     ]
    }
   ],
   "source": [
    "# Evaluamos la predicción\n",
    "print(DT.score(test_X, test_y))\n",
    "print(confusion_matrix(test_y, DTpredictions_under))\n",
    "print(classification_report(test_y, DTpredictions_under))"
   ]
  },
  {
   "cell_type": "markdown",
   "id": "60e70865-1655-478f-8d4f-7f04785635b7",
   "metadata": {},
   "source": [
    "**Respuesta 3: Arbol de deciciones con undersampling**\n",
    "\n",
    "Ha mejorado la predicciónes acertadas de las observaciones que son fraude, y disminuido apenas las que no lo son. En general, ahora es un mejor modelo que sin balanceo"
   ]
  },
  {
   "cell_type": "markdown",
   "id": "7f8cb23e-f2f7-4614-9229-0c418bb3f60c",
   "metadata": {},
   "source": [
    "**Parte 4: Regresión loística con undersampling**"
   ]
  },
  {
   "cell_type": "code",
   "execution_count": 33,
   "id": "b1548edf-14c1-40a0-9a0c-66bf69a1c006",
   "metadata": {
    "tags": []
   },
   "outputs": [],
   "source": [
    "# Se escoge la regresión logística\n",
    "RL = LogisticRegression()\n",
    "\n",
    "# se entrena el modelo con el dataset de entrenamiento\n",
    "RL.fit(train_X, train_y)\n",
    "\n",
    "# predecimos la clase con los datos de prueba\n",
    "RLpredictions_under = RL.predict(test_X)"
   ]
  },
  {
   "cell_type": "code",
   "execution_count": 34,
   "id": "acdf6364-1921-4462-9d15-d726954bd259",
   "metadata": {
    "tags": []
   },
   "outputs": [
    {
     "name": "stdout",
     "output_type": "stream",
     "text": [
      "0.911127343559776\n",
      "[[1866  169]\n",
      " [ 196 1876]]\n",
      "              precision    recall  f1-score   support\n",
      "\n",
      "           0       0.90      0.92      0.91      2035\n",
      "           1       0.92      0.91      0.91      2072\n",
      "\n",
      "    accuracy                           0.91      4107\n",
      "   macro avg       0.91      0.91      0.91      4107\n",
      "weighted avg       0.91      0.91      0.91      4107\n",
      "\n"
     ]
    }
   ],
   "source": [
    "# Evaluamos la predicción\n",
    "print(RL.score(test_X, test_y))\n",
    "print(confusion_matrix(test_y, RLpredictions_under))\n",
    "print(classification_report(test_y, RLpredictions_under))"
   ]
  },
  {
   "cell_type": "markdown",
   "id": "29a91e44-fac1-4470-a664-cdc5b9fc0464",
   "metadata": {},
   "source": [
    "**Respuesta 4: Regresión Logistica con undersampling**\n",
    "\n",
    "Se aprecia una importante mejora en la precisión de las predicciones, debido al balanceado de las clases"
   ]
  },
  {
   "cell_type": "markdown",
   "id": "85599b43-bbe1-4a65-bea6-29308458c1ed",
   "metadata": {},
   "source": [
    "**Oversampling**\n",
    "\n",
    "Es un método para balancear las clases, consiste en agregar datos en la clase con menos cantidad de muestras. Para ello nos valemos del algoritmo de K-vecino, método por el cual se sintetizan datos analizando los patrones de los datos reales y sintetizando nuevas muestras en base a esa relación"
   ]
  },
  {
   "cell_type": "code",
   "execution_count": 35,
   "id": "30914643-51eb-49dc-919c-2cfc12c78d1c",
   "metadata": {
    "tags": []
   },
   "outputs": [
    {
     "name": "stderr",
     "output_type": "stream",
     "text": [
      "C:\\Users\\Francisco\\AppData\\Local\\Temp\\ipykernel_5724\\3853254621.py:4: FutureWarning: In a future version of pandas all arguments of DataFrame.drop except for the argument 'labels' will be keyword-only.\n",
      "  X = dataset.drop('isFraud',1)\n"
     ]
    },
    {
     "name": "stdout",
     "output_type": "stream",
     "text": [
      "0    6354407\n",
      "1    6354407\n",
      "Name: isFraud, dtype: int64\n"
     ]
    }
   ],
   "source": [
    "columns = dataset.columns\n",
    "\n",
    "# Creamos las variables independientes, y la dependiente que sería isFraud = 1\n",
    "X = dataset.drop('isFraud',1)\n",
    "y = dataset.isFraud\n",
    "\n",
    "# Balanceamos la cantidad de muestras para que se equiparen con las de menor cantidad\n",
    "oversample = RandomOverSampler(random_state=0)\n",
    "X_over, y_over = oversample.fit_resample(X, y)\n",
    "\n",
    "print(pd.Series(y_over).value_counts())"
   ]
  },
  {
   "cell_type": "code",
   "execution_count": 36,
   "id": "713118c4-ee71-4600-8c43-70505bc02dd0",
   "metadata": {
    "tags": []
   },
   "outputs": [],
   "source": [
    "columns_X = np.delete(columns, 11)\n",
    "columns_y = columns[-2]"
   ]
  },
  {
   "cell_type": "code",
   "execution_count": 37,
   "id": "53219a74-bb6f-41fa-9c4d-fcf99d515250",
   "metadata": {
    "tags": []
   },
   "outputs": [
    {
     "data": {
      "text/html": [
       "<div>\n",
       "<style scoped>\n",
       "    .dataframe tbody tr th:only-of-type {\n",
       "        vertical-align: middle;\n",
       "    }\n",
       "\n",
       "    .dataframe tbody tr th {\n",
       "        vertical-align: top;\n",
       "    }\n",
       "\n",
       "    .dataframe thead th {\n",
       "        text-align: right;\n",
       "    }\n",
       "</style>\n",
       "<table border=\"1\" class=\"dataframe\">\n",
       "  <thead>\n",
       "    <tr style=\"text-align: right;\">\n",
       "      <th></th>\n",
       "      <th>step</th>\n",
       "      <th>amount</th>\n",
       "      <th>oldbalanceOrig</th>\n",
       "      <th>newbalanceOrig</th>\n",
       "      <th>oldbalanceDest</th>\n",
       "      <th>newbalanceDest</th>\n",
       "      <th>CASH_IN</th>\n",
       "      <th>CASH_OUT</th>\n",
       "      <th>DEBIT</th>\n",
       "      <th>PAYMENT</th>\n",
       "      <th>TRANSFER</th>\n",
       "      <th>isFlaggedFraud</th>\n",
       "      <th>isFraud</th>\n",
       "    </tr>\n",
       "  </thead>\n",
       "  <tbody>\n",
       "    <tr>\n",
       "      <th>0</th>\n",
       "      <td>1</td>\n",
       "      <td>9839.64</td>\n",
       "      <td>170136.0</td>\n",
       "      <td>160296.36</td>\n",
       "      <td>0.0</td>\n",
       "      <td>0.0</td>\n",
       "      <td>0</td>\n",
       "      <td>0</td>\n",
       "      <td>0</td>\n",
       "      <td>1</td>\n",
       "      <td>0</td>\n",
       "      <td>0</td>\n",
       "      <td>0</td>\n",
       "    </tr>\n",
       "    <tr>\n",
       "      <th>1</th>\n",
       "      <td>1</td>\n",
       "      <td>1864.28</td>\n",
       "      <td>21249.0</td>\n",
       "      <td>19384.72</td>\n",
       "      <td>0.0</td>\n",
       "      <td>0.0</td>\n",
       "      <td>0</td>\n",
       "      <td>0</td>\n",
       "      <td>0</td>\n",
       "      <td>1</td>\n",
       "      <td>0</td>\n",
       "      <td>0</td>\n",
       "      <td>0</td>\n",
       "    </tr>\n",
       "    <tr>\n",
       "      <th>2</th>\n",
       "      <td>1</td>\n",
       "      <td>181.00</td>\n",
       "      <td>181.0</td>\n",
       "      <td>0.00</td>\n",
       "      <td>0.0</td>\n",
       "      <td>0.0</td>\n",
       "      <td>0</td>\n",
       "      <td>0</td>\n",
       "      <td>0</td>\n",
       "      <td>0</td>\n",
       "      <td>1</td>\n",
       "      <td>0</td>\n",
       "      <td>1</td>\n",
       "    </tr>\n",
       "    <tr>\n",
       "      <th>3</th>\n",
       "      <td>1</td>\n",
       "      <td>181.00</td>\n",
       "      <td>181.0</td>\n",
       "      <td>0.00</td>\n",
       "      <td>21182.0</td>\n",
       "      <td>0.0</td>\n",
       "      <td>0</td>\n",
       "      <td>1</td>\n",
       "      <td>0</td>\n",
       "      <td>0</td>\n",
       "      <td>0</td>\n",
       "      <td>0</td>\n",
       "      <td>1</td>\n",
       "    </tr>\n",
       "    <tr>\n",
       "      <th>4</th>\n",
       "      <td>1</td>\n",
       "      <td>11668.14</td>\n",
       "      <td>41554.0</td>\n",
       "      <td>29885.86</td>\n",
       "      <td>0.0</td>\n",
       "      <td>0.0</td>\n",
       "      <td>0</td>\n",
       "      <td>0</td>\n",
       "      <td>0</td>\n",
       "      <td>1</td>\n",
       "      <td>0</td>\n",
       "      <td>0</td>\n",
       "      <td>0</td>\n",
       "    </tr>\n",
       "  </tbody>\n",
       "</table>\n",
       "</div>"
      ],
      "text/plain": [
       "   step    amount  oldbalanceOrig  newbalanceOrig  oldbalanceDest  \\\n",
       "0     1   9839.64        170136.0       160296.36             0.0   \n",
       "1     1   1864.28         21249.0        19384.72             0.0   \n",
       "2     1    181.00           181.0            0.00             0.0   \n",
       "3     1    181.00           181.0            0.00         21182.0   \n",
       "4     1  11668.14         41554.0        29885.86             0.0   \n",
       "\n",
       "   newbalanceDest  CASH_IN  CASH_OUT  DEBIT  PAYMENT  TRANSFER  \\\n",
       "0             0.0        0         0      0        1         0   \n",
       "1             0.0        0         0      0        1         0   \n",
       "2             0.0        0         0      0        0         1   \n",
       "3             0.0        0         1      0        0         0   \n",
       "4             0.0        0         0      0        1         0   \n",
       "\n",
       "   isFlaggedFraud  isFraud  \n",
       "0               0        0  \n",
       "1               0        0  \n",
       "2               0        1  \n",
       "3               0        1  \n",
       "4               0        0  "
      ]
     },
     "execution_count": 37,
     "metadata": {},
     "output_type": "execute_result"
    }
   ],
   "source": [
    "X_df = pd.DataFrame(X_over, columns=columns_X)\n",
    "y_df = pd.DataFrame(y_over, columns=[columns_y])\n",
    "\n",
    "over_df = pd.concat([X_df, y_df], axis=1)\n",
    "over_df.head()"
   ]
  },
  {
   "cell_type": "code",
   "execution_count": 38,
   "id": "750c8d16-e3b6-4b0e-8ee8-e31fd954f476",
   "metadata": {
    "tags": []
   },
   "outputs": [],
   "source": [
    "# Separamos nuestro dataframe en una parte de entrenamiento y una de testeo\n",
    "train_X, test_X, train_y, test_y = train_test_split( over_df.drop(columns=[\"isFraud\"]), over_df['isFraud'], random_state=0)"
   ]
  },
  {
   "cell_type": "markdown",
   "id": "19660330-cb64-4e4f-8dcb-ac4243d0e11f",
   "metadata": {},
   "source": [
    "**Parte 5: Arbol de decisiones con oversampling**"
   ]
  },
  {
   "cell_type": "code",
   "execution_count": 39,
   "id": "c8f67e83-644b-4183-868c-dda9b75e08f3",
   "metadata": {
    "tags": []
   },
   "outputs": [],
   "source": [
    "# Se escoge el arbol de decisiones\n",
    "DT = tree.DecisionTreeClassifier()\n",
    "\n",
    "# se entrena el modelo con el dataset de entrenamiento\n",
    "DT.fit(train_X, train_y)\n",
    "\n",
    "# predecimos la clase con los datos de prueba\n",
    "DTpredictions_over = DT.predict(test_X)"
   ]
  },
  {
   "cell_type": "code",
   "execution_count": 40,
   "id": "09cf2d88-1ea5-4a7f-9191-3e6cfd80c307",
   "metadata": {
    "tags": []
   },
   "outputs": [
    {
     "name": "stdout",
     "output_type": "stream",
     "text": [
      "0.9999128164260148\n",
      "[[1587641     277]\n",
      " [      0 1589286]]\n",
      "              precision    recall  f1-score   support\n",
      "\n",
      "           0       1.00      1.00      1.00   1587918\n",
      "           1       1.00      1.00      1.00   1589286\n",
      "\n",
      "    accuracy                           1.00   3177204\n",
      "   macro avg       1.00      1.00      1.00   3177204\n",
      "weighted avg       1.00      1.00      1.00   3177204\n",
      "\n"
     ]
    }
   ],
   "source": [
    "# Evaluamos la predicción\n",
    "print(DT.score(test_X, test_y))\n",
    "print(confusion_matrix(test_y, DTpredictions_over))\n",
    "print(classification_report(test_y, DTpredictions_over))"
   ]
  },
  {
   "cell_type": "markdown",
   "id": "63c3499f-9738-43c4-b86e-04d18fe1d63c",
   "metadata": {},
   "source": [
    "**Resultado 5: Arbol de decisiones con oversampling**\n",
    "\n",
    "Como podemos ver obtuvimos un accuracy, un recall y un f1-score de prácticamente el 100% y solo falló en 277 casos que representan el 0.008% de los casos totales."
   ]
  },
  {
   "cell_type": "markdown",
   "id": "299b069f-216e-4c7c-9de5-e03951a73d29",
   "metadata": {},
   "source": [
    "**Parte 6: Regresión logistica con oversampling**"
   ]
  },
  {
   "cell_type": "code",
   "execution_count": 41,
   "id": "8c107275-9dde-4ac7-9682-383c625a219a",
   "metadata": {
    "tags": []
   },
   "outputs": [],
   "source": [
    "# Se escoge la regresión logística\n",
    "RL = LogisticRegression()\n",
    "\n",
    "# se entrena el modelo con el dataset de entrenamiento\n",
    "RL.fit(train_X, train_y)\n",
    "\n",
    "# predecimos la clase con los datos de prueba\n",
    "RLpredictions_over = RL.predict(test_X)"
   ]
  },
  {
   "cell_type": "code",
   "execution_count": 42,
   "id": "239a6319-6cf6-430c-8fbb-dbd0b22de46b",
   "metadata": {
    "tags": []
   },
   "outputs": [
    {
     "name": "stdout",
     "output_type": "stream",
     "text": [
      "0.9039932594822366\n",
      "[[1446883  141035]\n",
      " [ 163998 1425288]]\n",
      "              precision    recall  f1-score   support\n",
      "\n",
      "           0       0.90      0.91      0.90   1587918\n",
      "           1       0.91      0.90      0.90   1589286\n",
      "\n",
      "    accuracy                           0.90   3177204\n",
      "   macro avg       0.90      0.90      0.90   3177204\n",
      "weighted avg       0.90      0.90      0.90   3177204\n",
      "\n"
     ]
    }
   ],
   "source": [
    "# Evaluamos la predicción\n",
    "print(RL.score(test_X, test_y))\n",
    "print(confusion_matrix(test_y, RLpredictions_over))\n",
    "print(classification_report(test_y, RLpredictions_over))"
   ]
  },
  {
   "cell_type": "markdown",
   "id": "bf773b4c-26d9-4cd1-bca5-83f4ddbd6669",
   "metadata": {},
   "source": [
    "**Resultado 6: Regresión logistica con oversampling**\n",
    "\n",
    "Vemos que los resultados de las predicciones con oversampling son mejores que con los datos sin balancear, pero sorprendentemente son menores al modelo con undersampling. "
   ]
  },
  {
   "cell_type": "markdown",
   "id": "754d518e-cbe8-4bab-85c2-3ffd9b600205",
   "metadata": {},
   "source": [
    "**Validación Cruzada**\n",
    "--\n",
    "\n",
    "Para constatar la efectividad real de la performance de nuestro algoritmo aplicaremos validación cruzada, es decir, dividiremos nuestro dataset en secciones para poder generar iteraciones donde los datos se representan en distinto orden y comprobamos si la performance en cada caso es la misma. En este caso dividiremos nuestros datos en 5 pliegues para poder realizar 5 mediciones y cruzarlas."
   ]
  },
  {
   "cell_type": "code",
   "execution_count": 43,
   "id": "dabb2fed-d566-4a0e-81f4-d98cc02a6982",
   "metadata": {
    "tags": []
   },
   "outputs": [
    {
     "name": "stdout",
     "output_type": "stream",
     "text": [
      "[0.99980801 0.99980801 0.99982689 0.99982689 0.99984892 0.99979856\n",
      " 0.99983319 0.99981745 0.99980171 0.99978912]\n",
      "El promedio de nuestro accuracy es de 0.999816 % y la desviación estandar es de 0.000017 %\n"
     ]
    }
   ],
   "source": [
    "# Segmentamos los datos para poder realizar la validación cruzada\n",
    "score = crossval(DT, test_X, test_y, cv=10)\n",
    "print(score)\n",
    "print(f'El promedio de nuestro accuracy es de {score.mean():.6f} % y la desviación estandar es de {score.std():.6f} %')"
   ]
  },
  {
   "cell_type": "code",
   "execution_count": 44,
   "id": "310c74dc-7f24-482f-b746-22e34da22bf4",
   "metadata": {},
   "outputs": [
    {
     "data": {
      "image/png": "[encoded data removed]",
      "text/plain": [
       "<Figure size 800x400 with 1 Axes>"
      ]
     },
     "metadata": {},
     "output_type": "display_data"
    }
   ],
   "source": [
    "RocCurveDisplay.from_estimator(DT, test_X, test_y)\n",
    "plt.show()"
   ]
  },
  {
   "cell_type": "markdown",
   "id": "a215dea7-fefe-4cb7-a972-1349af4e90c4",
   "metadata": {},
   "source": [
    "Devido a la alta precisión de nuestro algoritmo optimizado por balanceo podríamos decir que el mismo se adapta muy bien a los datos sintetizados. Si esto pasara con datos reales, sería de suma utilidad incluir el algoritmo en un sistema de deteccion de fraude en tiempo real para poder bloquear transacciones e informar a los usuarios de las cuentas bancarias de origen.\n",
    "\n",
    "Pero para fines didácticos avanzaremos un paso mas e incluiremos un proceso de optimización de hiperparámetros mediante el método Grid Search"
   ]
  },
  {
   "cell_type": "code",
   "execution_count": 45,
   "id": "8dd20880-986a-4164-8a1f-0382f4e2cd3e",
   "metadata": {
    "tags": []
   },
   "outputs": [
    {
     "name": "stdout",
     "output_type": "stream",
     "text": [
      "Fitting 5 folds for each of 27 candidates, totalling 135 fits\n",
      "[CV 1/5] END max_leaf_nodes=1, min_samples_split=1, random_state=0;, score=nan total time=  26.2s\n",
      "[CV 2/5] END max_leaf_nodes=1, min_samples_split=1, random_state=0;, score=nan total time=   1.1s\n",
      "[CV 3/5] END max_leaf_nodes=1, min_samples_split=1, random_state=0;, score=nan total time=   1.0s\n",
      "[CV 4/5] END max_leaf_nodes=1, min_samples_split=1, random_state=0;, score=nan total time=   1.2s\n",
      "[CV 5/5] END max_leaf_nodes=1, min_samples_split=1, random_state=0;, score=nan total time=   1.0s\n",
      "[CV 1/5] END max_leaf_nodes=1, min_samples_split=1, random_state=2;, score=nan total time=   0.9s\n",
      "[CV 2/5] END max_leaf_nodes=1, min_samples_split=1, random_state=2;, score=nan total time=   0.7s\n",
      "[CV 3/5] END max_leaf_nodes=1, min_samples_split=1, random_state=2;, score=nan total time=   0.7s\n",
      "[CV 4/5] END max_leaf_nodes=1, min_samples_split=1, random_state=2;, score=nan total time=   0.8s\n",
      "[CV 5/5] END max_leaf_nodes=1, min_samples_split=1, random_state=2;, score=nan total time=   0.8s\n",
      "[CV 1/5] END max_leaf_nodes=1, min_samples_split=1, random_state=5;, score=nan total time=   0.7s\n",
      "[CV 2/5] END max_leaf_nodes=1, min_samples_split=1, random_state=5;, score=nan total time=   1.3s\n",
      "[CV 3/5] END max_leaf_nodes=1, min_samples_split=1, random_state=5;, score=nan total time=   1.6s\n",
      "[CV 4/5] END max_leaf_nodes=1, min_samples_split=1, random_state=5;, score=nan total time=   1.3s\n",
      "[CV 5/5] END max_leaf_nodes=1, min_samples_split=1, random_state=5;, score=nan total time=   1.0s\n",
      "[CV 1/5] END max_leaf_nodes=1, min_samples_split=3, random_state=0;, score=nan total time=   0.8s\n",
      "[CV 2/5] END max_leaf_nodes=1, min_samples_split=3, random_state=0;, score=nan total time=   0.9s\n",
      "[CV 3/5] END max_leaf_nodes=1, min_samples_split=3, random_state=0;, score=nan total time=   0.8s\n",
      "[CV 4/5] END max_leaf_nodes=1, min_samples_split=3, random_state=0;, score=nan total time=   0.8s\n",
      "[CV 5/5] END max_leaf_nodes=1, min_samples_split=3, random_state=0;, score=nan total time=   1.1s\n",
      "[CV 1/5] END max_leaf_nodes=1, min_samples_split=3, random_state=2;, score=nan total time=   1.1s\n",
      "[CV 2/5] END max_leaf_nodes=1, min_samples_split=3, random_state=2;, score=nan total time=   1.0s\n",
      "[CV 3/5] END max_leaf_nodes=1, min_samples_split=3, random_state=2;, score=nan total time=   1.0s\n",
      "[CV 4/5] END max_leaf_nodes=1, min_samples_split=3, random_state=2;, score=nan total time=   0.9s\n",
      "[CV 5/5] END max_leaf_nodes=1, min_samples_split=3, random_state=2;, score=nan total time=   0.9s\n",
      "[CV 1/5] END max_leaf_nodes=1, min_samples_split=3, random_state=5;, score=nan total time=   1.0s\n",
      "[CV 2/5] END max_leaf_nodes=1, min_samples_split=3, random_state=5;, score=nan total time=   0.9s\n",
      "[CV 3/5] END max_leaf_nodes=1, min_samples_split=3, random_state=5;, score=nan total time=   0.8s\n",
      "[CV 4/5] END max_leaf_nodes=1, min_samples_split=3, random_state=5;, score=nan total time=   1.1s\n",
      "[CV 5/5] END max_leaf_nodes=1, min_samples_split=3, random_state=5;, score=nan total time=   1.5s\n",
      "[CV 1/5] END max_leaf_nodes=1, min_samples_split=4, random_state=0;, score=nan total time=   1.3s\n",
      "[CV 2/5] END max_leaf_nodes=1, min_samples_split=4, random_state=0;, score=nan total time=   1.1s\n",
      "[CV 3/5] END max_leaf_nodes=1, min_samples_split=4, random_state=0;, score=nan total time=   0.8s\n",
      "[CV 4/5] END max_leaf_nodes=1, min_samples_split=4, random_state=0;, score=nan total time=   0.8s\n",
      "[CV 5/5] END max_leaf_nodes=1, min_samples_split=4, random_state=0;, score=nan total time=   0.8s\n",
      "[CV 1/5] END max_leaf_nodes=1, min_samples_split=4, random_state=2;, score=nan total time=   0.8s\n",
      "[CV 2/5] END max_leaf_nodes=1, min_samples_split=4, random_state=2;, score=nan total time=   1.0s\n",
      "[CV 3/5] END max_leaf_nodes=1, min_samples_split=4, random_state=2;, score=nan total time=   1.3s\n",
      "[CV 4/5] END max_leaf_nodes=1, min_samples_split=4, random_state=2;, score=nan total time=   1.4s\n",
      "[CV 5/5] END max_leaf_nodes=1, min_samples_split=4, random_state=2;, score=nan total time=   1.2s\n",
      "[CV 1/5] END max_leaf_nodes=1, min_samples_split=4, random_state=5;, score=nan total time=   1.1s\n",
      "[CV 2/5] END max_leaf_nodes=1, min_samples_split=4, random_state=5;, score=nan total time=   1.0s\n",
      "[CV 3/5] END max_leaf_nodes=1, min_samples_split=4, random_state=5;, score=nan total time=   0.9s\n",
      "[CV 4/5] END max_leaf_nodes=1, min_samples_split=4, random_state=5;, score=nan total time=   0.9s\n",
      "[CV 5/5] END max_leaf_nodes=1, min_samples_split=4, random_state=5;, score=nan total time=   0.8s\n",
      "[CV 1/5] END max_leaf_nodes=2, min_samples_split=1, random_state=0;, score=0.084 total time=  26.8s\n",
      "[CV 2/5] END max_leaf_nodes=2, min_samples_split=1, random_state=0;, score=0.081 total time=  26.4s\n",
      "[CV 3/5] END max_leaf_nodes=2, min_samples_split=1, random_state=0;, score=0.083 total time=  27.7s\n",
      "[CV 4/5] END max_leaf_nodes=2, min_samples_split=1, random_state=0;, score=0.085 total time=  25.7s\n",
      "[CV 5/5] END max_leaf_nodes=2, min_samples_split=1, random_state=0;, score=0.083 total time=  25.6s\n",
      "[CV 1/5] END max_leaf_nodes=2, min_samples_split=1, random_state=2;, score=0.084 total time=  25.1s\n",
      "[CV 2/5] END max_leaf_nodes=2, min_samples_split=1, random_state=2;, score=0.081 total time=  25.1s\n",
      "[CV 3/5] END max_leaf_nodes=2, min_samples_split=1, random_state=2;, score=0.083 total time=  25.9s\n",
      "[CV 4/5] END max_leaf_nodes=2, min_samples_split=1, random_state=2;, score=0.085 total time=  27.8s\n",
      "[CV 5/5] END max_leaf_nodes=2, min_samples_split=1, random_state=2;, score=0.083 total time=  26.1s\n",
      "[CV 1/5] END max_leaf_nodes=2, min_samples_split=1, random_state=5;, score=0.084 total time=  23.9s\n",
      "[CV 2/5] END max_leaf_nodes=2, min_samples_split=1, random_state=5;, score=0.081 total time=  25.3s\n",
      "[CV 3/5] END max_leaf_nodes=2, min_samples_split=1, random_state=5;, score=0.083 total time=  23.0s\n",
      "[CV 4/5] END max_leaf_nodes=2, min_samples_split=1, random_state=5;, score=0.085 total time=  21.7s\n",
      "[CV 5/5] END max_leaf_nodes=2, min_samples_split=1, random_state=5;, score=0.083 total time=  21.3s\n",
      "[CV 1/5] END max_leaf_nodes=2, min_samples_split=3, random_state=0;, score=0.084 total time=  22.7s\n",
      "[CV 2/5] END max_leaf_nodes=2, min_samples_split=3, random_state=0;, score=0.081 total time=  24.5s\n",
      "[CV 3/5] END max_leaf_nodes=2, min_samples_split=3, random_state=0;, score=0.083 total time=  25.3s\n",
      "[CV 4/5] END max_leaf_nodes=2, min_samples_split=3, random_state=0;, score=0.085 total time=  24.1s\n",
      "[CV 5/5] END max_leaf_nodes=2, min_samples_split=3, random_state=0;, score=0.083 total time=  20.2s\n",
      "[CV 1/5] END max_leaf_nodes=2, min_samples_split=3, random_state=2;, score=0.084 total time=  19.7s\n",
      "[CV 2/5] END max_leaf_nodes=2, min_samples_split=3, random_state=2;, score=0.081 total time=  20.0s\n",
      "[CV 3/5] END max_leaf_nodes=2, min_samples_split=3, random_state=2;, score=0.083 total time=  19.6s\n",
      "[CV 4/5] END max_leaf_nodes=2, min_samples_split=3, random_state=2;, score=0.085 total time=  19.5s\n",
      "[CV 5/5] END max_leaf_nodes=2, min_samples_split=3, random_state=2;, score=0.083 total time=  19.7s\n",
      "[CV 1/5] END max_leaf_nodes=2, min_samples_split=3, random_state=5;, score=0.084 total time=  19.1s\n",
      "[CV 2/5] END max_leaf_nodes=2, min_samples_split=3, random_state=5;, score=0.081 total time=  19.0s\n",
      "[CV 3/5] END max_leaf_nodes=2, min_samples_split=3, random_state=5;, score=0.083 total time=  19.9s\n",
      "[CV 4/5] END max_leaf_nodes=2, min_samples_split=3, random_state=5;, score=0.085 total time=  19.1s\n",
      "[CV 5/5] END max_leaf_nodes=2, min_samples_split=3, random_state=5;, score=0.083 total time=  19.7s\n",
      "[CV 1/5] END max_leaf_nodes=2, min_samples_split=4, random_state=0;, score=0.084 total time=  21.7s\n",
      "[CV 2/5] END max_leaf_nodes=2, min_samples_split=4, random_state=0;, score=0.081 total time=  20.1s\n",
      "[CV 3/5] END max_leaf_nodes=2, min_samples_split=4, random_state=0;, score=0.083 total time=  19.4s\n",
      "[CV 4/5] END max_leaf_nodes=2, min_samples_split=4, random_state=0;, score=0.085 total time=  19.5s\n",
      "[CV 5/5] END max_leaf_nodes=2, min_samples_split=4, random_state=0;, score=0.083 total time=  20.1s\n",
      "[CV 1/5] END max_leaf_nodes=2, min_samples_split=4, random_state=2;, score=0.084 total time=  19.4s\n",
      "[CV 2/5] END max_leaf_nodes=2, min_samples_split=4, random_state=2;, score=0.081 total time=  20.2s\n",
      "[CV 3/5] END max_leaf_nodes=2, min_samples_split=4, random_state=2;, score=0.083 total time=  19.8s\n",
      "[CV 4/5] END max_leaf_nodes=2, min_samples_split=4, random_state=2;, score=0.085 total time=  19.7s\n",
      "[CV 5/5] END max_leaf_nodes=2, min_samples_split=4, random_state=2;, score=0.083 total time=  20.0s\n",
      "[CV 1/5] END max_leaf_nodes=2, min_samples_split=4, random_state=5;, score=0.084 total time=  19.8s\n",
      "[CV 2/5] END max_leaf_nodes=2, min_samples_split=4, random_state=5;, score=0.081 total time=  19.1s\n",
      "[CV 3/5] END max_leaf_nodes=2, min_samples_split=4, random_state=5;, score=0.083 total time=  19.5s\n",
      "[CV 4/5] END max_leaf_nodes=2, min_samples_split=4, random_state=5;, score=0.085 total time=  19.5s\n",
      "[CV 5/5] END max_leaf_nodes=2, min_samples_split=4, random_state=5;, score=0.083 total time=  19.5s\n",
      "[CV 1/5] END max_leaf_nodes=3, min_samples_split=1, random_state=0;, score=0.613 total time=  24.1s\n",
      "[CV 2/5] END max_leaf_nodes=3, min_samples_split=1, random_state=0;, score=0.610 total time=  24.6s\n",
      "[CV 3/5] END max_leaf_nodes=3, min_samples_split=1, random_state=0;, score=0.612 total time=  31.0s\n",
      "[CV 4/5] END max_leaf_nodes=3, min_samples_split=1, random_state=0;, score=0.612 total time=  35.9s\n",
      "[CV 5/5] END max_leaf_nodes=3, min_samples_split=1, random_state=0;, score=0.613 total time=  33.4s\n",
      "[CV 1/5] END max_leaf_nodes=3, min_samples_split=1, random_state=2;, score=0.613 total time=  32.1s\n",
      "[CV 2/5] END max_leaf_nodes=3, min_samples_split=1, random_state=2;, score=0.610 total time=  31.5s\n",
      "[CV 3/5] END max_leaf_nodes=3, min_samples_split=1, random_state=2;, score=0.612 total time=  30.9s\n",
      "[CV 4/5] END max_leaf_nodes=3, min_samples_split=1, random_state=2;, score=0.612 total time=  32.5s\n",
      "[CV 5/5] END max_leaf_nodes=3, min_samples_split=1, random_state=2;, score=0.613 total time=  31.6s\n",
      "[CV 1/5] END max_leaf_nodes=3, min_samples_split=1, random_state=5;, score=0.613 total time=  32.1s\n",
      "[CV 2/5] END max_leaf_nodes=3, min_samples_split=1, random_state=5;, score=0.610 total time=  31.9s\n",
      "[CV 3/5] END max_leaf_nodes=3, min_samples_split=1, random_state=5;, score=0.612 total time=  32.5s\n",
      "[CV 4/5] END max_leaf_nodes=3, min_samples_split=1, random_state=5;, score=0.612 total time=  34.2s\n",
      "[CV 5/5] END max_leaf_nodes=3, min_samples_split=1, random_state=5;, score=0.613 total time=  34.0s\n",
      "[CV 1/5] END max_leaf_nodes=3, min_samples_split=3, random_state=0;, score=0.613 total time=  33.0s\n",
      "[CV 2/5] END max_leaf_nodes=3, min_samples_split=3, random_state=0;, score=0.610 total time=  32.0s\n",
      "[CV 3/5] END max_leaf_nodes=3, min_samples_split=3, random_state=0;, score=0.612 total time=  31.2s\n",
      "[CV 4/5] END max_leaf_nodes=3, min_samples_split=3, random_state=0;, score=0.612 total time=  32.9s\n",
      "[CV 5/5] END max_leaf_nodes=3, min_samples_split=3, random_state=0;, score=0.613 total time=  33.3s\n",
      "[CV 1/5] END max_leaf_nodes=3, min_samples_split=3, random_state=2;, score=0.613 total time=  32.3s\n",
      "[CV 2/5] END max_leaf_nodes=3, min_samples_split=3, random_state=2;, score=0.610 total time=  31.5s\n",
      "[CV 3/5] END max_leaf_nodes=3, min_samples_split=3, random_state=2;, score=0.612 total time=  32.2s\n",
      "[CV 4/5] END max_leaf_nodes=3, min_samples_split=3, random_state=2;, score=0.612 total time=  32.3s\n",
      "[CV 5/5] END max_leaf_nodes=3, min_samples_split=3, random_state=2;, score=0.613 total time=  30.9s\n",
      "[CV 1/5] END max_leaf_nodes=3, min_samples_split=3, random_state=5;, score=0.613 total time=  24.6s\n",
      "[CV 2/5] END max_leaf_nodes=3, min_samples_split=3, random_state=5;, score=0.610 total time=  25.7s\n",
      "[CV 3/5] END max_leaf_nodes=3, min_samples_split=3, random_state=5;, score=0.612 total time=  25.4s\n",
      "[CV 4/5] END max_leaf_nodes=3, min_samples_split=3, random_state=5;, score=0.612 total time=  24.7s\n",
      "[CV 5/5] END max_leaf_nodes=3, min_samples_split=3, random_state=5;, score=0.613 total time=  25.7s\n",
      "[CV 1/5] END max_leaf_nodes=3, min_samples_split=4, random_state=0;, score=0.613 total time=  24.9s\n",
      "[CV 2/5] END max_leaf_nodes=3, min_samples_split=4, random_state=0;, score=0.610 total time=  25.5s\n",
      "[CV 3/5] END max_leaf_nodes=3, min_samples_split=4, random_state=0;, score=0.612 total time=  30.8s\n",
      "[CV 4/5] END max_leaf_nodes=3, min_samples_split=4, random_state=0;, score=0.612 total time=  33.2s\n",
      "[CV 5/5] END max_leaf_nodes=3, min_samples_split=4, random_state=0;, score=0.613 total time=  31.5s\n",
      "[CV 1/5] END max_leaf_nodes=3, min_samples_split=4, random_state=2;, score=0.613 total time=  32.5s\n",
      "[CV 2/5] END max_leaf_nodes=3, min_samples_split=4, random_state=2;, score=0.610 total time=  31.5s\n",
      "[CV 3/5] END max_leaf_nodes=3, min_samples_split=4, random_state=2;, score=0.612 total time=  31.9s\n",
      "[CV 4/5] END max_leaf_nodes=3, min_samples_split=4, random_state=2;, score=0.612 total time=  31.8s\n",
      "[CV 5/5] END max_leaf_nodes=3, min_samples_split=4, random_state=2;, score=0.613 total time=  31.8s\n",
      "[CV 1/5] END max_leaf_nodes=3, min_samples_split=4, random_state=5;, score=0.613 total time=  32.8s\n",
      "[CV 2/5] END max_leaf_nodes=3, min_samples_split=4, random_state=5;, score=0.610 total time=  30.8s\n",
      "[CV 3/5] END max_leaf_nodes=3, min_samples_split=4, random_state=5;, score=0.612 total time=  32.1s\n",
      "[CV 4/5] END max_leaf_nodes=3, min_samples_split=4, random_state=5;, score=0.612 total time=  32.3s\n",
      "[CV 5/5] END max_leaf_nodes=3, min_samples_split=4, random_state=5;, score=0.613 total time=  31.7s\n"
     ]
    },
    {
     "name": "stderr",
     "output_type": "stream",
     "text": [
      "C:\\Users\\Francisco\\AppData\\Roaming\\Python\\Python311\\site-packages\\sklearn\\model_selection\\_validation.py:378: FitFailedWarning: \n",
      "45 fits failed out of a total of 135.\n",
      "The score on these train-test partitions for these parameters will be set to nan.\n",
      "If these failures are not expected, you can try to debug them by setting error_score='raise'.\n",
      "\n",
      "Below are more details about the failures:\n",
      "--------------------------------------------------------------------------------\n",
      "45 fits failed with the following error:\n",
      "Traceback (most recent call last):\n",
      "  File \"C:\\Users\\Francisco\\AppData\\Roaming\\Python\\Python311\\site-packages\\sklearn\\model_selection\\_validation.py\", line 686, in _fit_and_score\n",
      "    estimator.fit(X_train, y_train, **fit_params)\n",
      "  File \"C:\\Users\\Francisco\\AppData\\Roaming\\Python\\Python311\\site-packages\\sklearn\\tree\\_classes.py\", line 889, in fit\n",
      "    super().fit(\n",
      "  File \"C:\\Users\\Francisco\\AppData\\Roaming\\Python\\Python311\\site-packages\\sklearn\\tree\\_classes.py\", line 177, in fit\n",
      "    self._validate_params()\n",
      "  File \"C:\\Users\\Francisco\\AppData\\Roaming\\Python\\Python311\\site-packages\\sklearn\\base.py\", line 581, in _validate_params\n",
      "    validate_parameter_constraints(\n",
      "  File \"C:\\Users\\Francisco\\AppData\\Roaming\\Python\\Python311\\site-packages\\sklearn\\utils\\_param_validation.py\", line 97, in validate_parameter_constraints\n",
      "    raise InvalidParameterError(\n",
      "sklearn.utils._param_validation.InvalidParameterError: The 'max_leaf_nodes' parameter of DecisionTreeClassifier must be an int in the range [2, inf) or None. Got 1 instead.\n",
      "\n",
      "  warnings.warn(some_fits_failed_message, FitFailedWarning)\n",
      "C:\\Users\\Francisco\\AppData\\Roaming\\Python\\Python311\\site-packages\\sklearn\\model_selection\\_search.py:952: UserWarning: One or more of the test scores are non-finite: [       nan        nan        nan        nan        nan        nan\n",
      "        nan        nan        nan 0.08310598 0.08310598 0.08310598\n",
      " 0.08310598 0.08310598 0.08310598 0.08310598 0.08310598 0.08310598\n",
      " 0.61199125 0.61199125 0.61199125 0.61199125 0.61199125 0.61199125\n",
      " 0.61199125 0.61199125 0.61199125]\n",
      "  warnings.warn(\n"
     ]
    },
    {
     "data": {
      "text/html": [
       "<style>#sk-container-id-1 {color: black;background-color: white;}#sk-container-id-1 pre{padding: 0;}#sk-container-id-1 div.sk-toggleable {background-color: white;}#sk-container-id-1 label.sk-toggleable__label {cursor: pointer;display: block;width: 100%;margin-bottom: 0;padding: 0.3em;box-sizing: border-box;text-align: center;}#sk-container-id-1 label.sk-toggleable__label-arrow:before {content: \"▸\";float: left;margin-right: 0.25em;color: #696969;}#sk-container-id-1 label.sk-toggleable__label-arrow:hover:before {color: black;}#sk-container-id-1 div.sk-estimator:hover label.sk-toggleable__label-arrow:before {color: black;}#sk-container-id-1 div.sk-toggleable__content {max-height: 0;max-width: 0;overflow: hidden;text-align: left;background-color: #f0f8ff;}#sk-container-id-1 div.sk-toggleable__content pre {margin: 0.2em;color: black;border-radius: 0.25em;background-color: #f0f8ff;}#sk-container-id-1 input.sk-toggleable__control:checked~div.sk-toggleable__content {max-height: 200px;max-width: 100%;overflow: auto;}#sk-container-id-1 input.sk-toggleable__control:checked~label.sk-toggleable__label-arrow:before {content: \"▾\";}#sk-container-id-1 div.sk-estimator input.sk-toggleable__control:checked~label.sk-toggleable__label {background-color: #d4ebff;}#sk-container-id-1 div.sk-label input.sk-toggleable__control:checked~label.sk-toggleable__label {background-color: #d4ebff;}#sk-container-id-1 input.sk-hidden--visually {border: 0;clip: rect(1px 1px 1px 1px);clip: rect(1px, 1px, 1px, 1px);height: 1px;margin: -1px;overflow: hidden;padding: 0;position: absolute;width: 1px;}#sk-container-id-1 div.sk-estimator {font-family: monospace;background-color: #f0f8ff;border: 1px dotted black;border-radius: 0.25em;box-sizing: border-box;margin-bottom: 0.5em;}#sk-container-id-1 div.sk-estimator:hover {background-color: #d4ebff;}#sk-container-id-1 div.sk-parallel-item::after {content: \"\";width: 100%;border-bottom: 1px solid gray;flex-grow: 1;}#sk-container-id-1 div.sk-label:hover label.sk-toggleable__label {background-color: #d4ebff;}#sk-container-id-1 div.sk-serial::before {content: \"\";position: absolute;border-left: 1px solid gray;box-sizing: border-box;top: 0;bottom: 0;left: 50%;z-index: 0;}#sk-container-id-1 div.sk-serial {display: flex;flex-direction: column;align-items: center;background-color: white;padding-right: 0.2em;padding-left: 0.2em;position: relative;}#sk-container-id-1 div.sk-item {position: relative;z-index: 1;}#sk-container-id-1 div.sk-parallel {display: flex;align-items: stretch;justify-content: center;background-color: white;position: relative;}#sk-container-id-1 div.sk-item::before, #sk-container-id-1 div.sk-parallel-item::before {content: \"\";position: absolute;border-left: 1px solid gray;box-sizing: border-box;top: 0;bottom: 0;left: 50%;z-index: -1;}#sk-container-id-1 div.sk-parallel-item {display: flex;flex-direction: column;z-index: 1;position: relative;background-color: white;}#sk-container-id-1 div.sk-parallel-item:first-child::after {align-self: flex-end;width: 50%;}#sk-container-id-1 div.sk-parallel-item:last-child::after {align-self: flex-start;width: 50%;}#sk-container-id-1 div.sk-parallel-item:only-child::after {width: 0;}#sk-container-id-1 div.sk-dashed-wrapped {border: 1px dashed gray;margin: 0 0.4em 0.5em 0.4em;box-sizing: border-box;padding-bottom: 0.4em;background-color: white;}#sk-container-id-1 div.sk-label label {font-family: monospace;font-weight: bold;display: inline-block;line-height: 1.2em;}#sk-container-id-1 div.sk-label-container {text-align: center;}#sk-container-id-1 div.sk-container {/* jupyter's `normalize.less` sets `[hidden] { display: none; }` but bootstrap.min.css set `[hidden] { display: none !important; }` so we also need the `!important` here to be able to override the default hidden behavior on the sphinx rendered scikit-learn.org. See: https://github.com/scikit-learn/scikit-learn/issues/21755 */display: inline-block !important;position: relative;}#sk-container-id-1 div.sk-text-repr-fallback {display: none;}</style><div id=\"sk-container-id-1\" class=\"sk-top-container\"><div class=\"sk-text-repr-fallback\"><pre>GridSearchCV(cv=5, estimator=DecisionTreeClassifier(),\n",
       "             param_grid={&#x27;max_leaf_nodes&#x27;: [1, 2, 3],\n",
       "                         &#x27;min_samples_split&#x27;: [1, 3, 4],\n",
       "                         &#x27;random_state&#x27;: [0, 2, 5]},\n",
       "             refit=&#x27;r2&#x27;, scoring=&#x27;r2&#x27;, verbose=4)</pre><b>In a Jupyter environment, please rerun this cell to show the HTML representation or trust the notebook. <br />On GitHub, the HTML representation is unable to render, please try loading this page with nbviewer.org.</b></div><div class=\"sk-container\" hidden><div class=\"sk-item sk-dashed-wrapped\"><div class=\"sk-label-container\"><div class=\"sk-label sk-toggleable\"><input class=\"sk-toggleable__control sk-hidden--visually\" id=\"sk-estimator-id-1\" type=\"checkbox\" ><label for=\"sk-estimator-id-1\" class=\"sk-toggleable__label sk-toggleable__label-arrow\">GridSearchCV</label><div class=\"sk-toggleable__content\"><pre>GridSearchCV(cv=5, estimator=DecisionTreeClassifier(),\n",
       "             param_grid={&#x27;max_leaf_nodes&#x27;: [1, 2, 3],\n",
       "                         &#x27;min_samples_split&#x27;: [1, 3, 4],\n",
       "                         &#x27;random_state&#x27;: [0, 2, 5]},\n",
       "             refit=&#x27;r2&#x27;, scoring=&#x27;r2&#x27;, verbose=4)</pre></div></div></div><div class=\"sk-parallel\"><div class=\"sk-parallel-item\"><div class=\"sk-item\"><div class=\"sk-label-container\"><div class=\"sk-label sk-toggleable\"><input class=\"sk-toggleable__control sk-hidden--visually\" id=\"sk-estimator-id-2\" type=\"checkbox\" ><label for=\"sk-estimator-id-2\" class=\"sk-toggleable__label sk-toggleable__label-arrow\">estimator: DecisionTreeClassifier</label><div class=\"sk-toggleable__content\"><pre>DecisionTreeClassifier()</pre></div></div></div><div class=\"sk-serial\"><div class=\"sk-item\"><div class=\"sk-estimator sk-toggleable\"><input class=\"sk-toggleable__control sk-hidden--visually\" id=\"sk-estimator-id-3\" type=\"checkbox\" ><label for=\"sk-estimator-id-3\" class=\"sk-toggleable__label sk-toggleable__label-arrow\">DecisionTreeClassifier</label><div class=\"sk-toggleable__content\"><pre>DecisionTreeClassifier()</pre></div></div></div></div></div></div></div></div></div></div>"
      ],
      "text/plain": [
       "GridSearchCV(cv=5, estimator=DecisionTreeClassifier(),\n",
       "             param_grid={'max_leaf_nodes': [1, 2, 3],\n",
       "                         'min_samples_split': [1, 3, 4],\n",
       "                         'random_state': [0, 2, 5]},\n",
       "             refit='r2', scoring='r2', verbose=4)"
      ]
     },
     "execution_count": 45,
     "metadata": {},
     "output_type": "execute_result"
    }
   ],
   "source": [
    "# Definimos los parámetros que queremos ajustar\n",
    "parameters = {'max_leaf_nodes': [1, 2, 3],\n",
    "              'min_samples_split': [1, 3, 4],\n",
    "              'random_state': [0, 2, 5]\n",
    "             }\n",
    "\n",
    "GS = GridSearchCV(estimator = DT,\n",
    "                  param_grid = parameters,\n",
    "                  scoring = 'r2',\n",
    "                  refit = 'r2',\n",
    "                  cv = 5,\n",
    "                  verbose = 4\n",
    "                 )\n",
    "\n",
    "GS.fit(train_X, train_y)"
   ]
  },
  {
   "cell_type": "markdown",
   "id": "03b88dbe-d656-4837-b1f6-b0f8160f0b43",
   "metadata": {},
   "source": [
    "**Resumen**\n",
    "--\n",
    "\n",
    "En resumen podemos determinar que con los datos balanceados se obtienen modelos mas precisos. El que mejor resultado dio fue el modelo de arbol de decisiones con oversampling, el cual dio un accuracy de, prácticamente, el 100%. Resultado mas que suficiente para este modelo usado solamente de forma didáctica. \n",
    "\n",
    "Se intentó realizar una optimización de hiperparámetros pero no dio mejores resultados que el ya obtenido.\n",
    "\n",
    "En un caso real se podría probar aplicar otros métodos de balanceo como Smooth y otros modelos de ML, como Random Forest, para tratar de mejorar la precisión y evitar esos 277 falsos positivos. Con este tipo de precisión ya es suficiente para poder aplicarlo en un sistema real, el algoritmo podría aplicarse a un sistema que prevenga fraudes en tiempo real y de aviso a los clientes y administradores de cuentas."
   ]
  }
 ],
 "metadata": {
  "kernelspec": {
   "display_name": "Python 3 (ipykernel)",
   "language": "python",
   "name": "python3"
  },
  "language_info": {
   "codemirror_mode": {
    "name": "ipython",
    "version": 3
   },
   "file_extension": ".py",
   "mimetype": "text/x-python",
   "name": "python",
   "nbconvert_exporter": "python",
   "pygments_lexer": "ipython3",
   "version": "3.11.5"
  }
 },
 "nbformat": 4,
 "nbformat_minor": 5
}
